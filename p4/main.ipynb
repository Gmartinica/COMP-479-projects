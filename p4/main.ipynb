{
 "cells": [
  {
   "cell_type": "code",
   "execution_count": 74,
   "metadata": {
    "collapsed": true,
    "pycharm": {
     "name": "#%%\n"
    }
   },
   "outputs": [],
   "source": [
    "from Cluster import Cluster\n",
    "import pandas as pd\n",
    "from Scraper import Scraper\n",
    "from afinn import Afinn"
   ]
  },
  {
   "cell_type": "code",
   "execution_count": 75,
   "outputs": [],
   "source": [
    "# Scrape files\n",
    "# s = Scraper(\"concordia/test_html\")\n",
    "# s.scrape_files()"
   ],
   "metadata": {
    "collapsed": false,
    "pycharm": {
     "name": "#%%\n"
    }
   }
  },
  {
   "cell_type": "code",
   "execution_count": 76,
   "outputs": [
    {
     "name": "stdout",
     "output_type": "stream",
     "text": [
      "(6, 587)\n",
      "         00       000        10        12       139      1455      1515  \\\n",
      "0  0.000000  0.000000  0.048574  0.000000  0.041009  0.041009  0.041009   \n",
      "1  0.000000  0.000000  0.000000  0.000000  0.000000  0.000000  0.000000   \n",
      "2  0.000000  0.000000  0.000000  0.064058  0.044348  0.044348  0.044348   \n",
      "3  0.066706  0.000000  0.000000  0.000000  0.000000  0.000000  0.000000   \n",
      "4  0.000000  0.000000  0.000000  0.000000  0.000000  0.000000  0.000000   \n",
      "5  0.000000  0.038987  0.031970  0.000000  0.026991  0.026991  0.026991   \n",
      "\n",
      "       15th        17       1m8  ...     women      work  workplace     works  \\\n",
      "0  0.059235  0.059235  0.041009  ...  0.000000  0.041009   0.000000  0.000000   \n",
      "1  0.000000  0.000000  0.000000  ...  0.000000  0.000000   0.000000  0.070635   \n",
      "2  0.000000  0.000000  0.044348  ...  0.000000  0.000000   0.000000  0.000000   \n",
      "3  0.000000  0.000000  0.000000  ...  0.000000  0.046182   0.000000  0.000000   \n",
      "4  0.000000  0.000000  0.000000  ...  0.000000  0.000000   0.000000  0.000000   \n",
      "5  0.000000  0.000000  0.026991  ...  0.116962  0.080974   0.038987  0.000000   \n",
      "\n",
      "   workshop  workshops     world   writing      year       yee  \n",
      "0  0.000000   0.000000  0.059235  0.000000  0.000000  0.000000  \n",
      "1  0.000000   0.000000  0.000000  0.000000  0.000000  0.000000  \n",
      "2  0.000000   0.000000  0.000000  0.000000  0.000000  0.000000  \n",
      "3  0.000000   0.000000  0.000000  0.000000  0.066706  0.066706  \n",
      "4  0.000000   0.000000  0.000000  0.000000  0.000000  0.000000  \n",
      "5  0.038987   0.038987  0.000000  0.077974  0.000000  0.000000  \n",
      "\n",
      "[6 rows x 587 columns]\n"
     ]
    }
   ],
   "source": [
    "# Vectorize documents into tf-idf matrix\n",
    "v = Cluster(\"docs/\")\n",
    "matrix = v.vectorize()\n",
    "print(matrix.shape)\n",
    "# 2D array array[doc, word]\n",
    "df = pd.DataFrame(matrix.toarray(), columns=v.vectorizer.get_feature_names_out())\n",
    "print(df)"
   ],
   "metadata": {
    "collapsed": false,
    "pycharm": {
     "name": "#%%\n"
    }
   }
  },
  {
   "cell_type": "code",
   "execution_count": 77,
   "outputs": [],
   "source": [
    "# Finding top 20 words in each cluster and writing to file\n",
    "v.cluster_files(matrix, 3)\n",
    "v.cluster_files(matrix, 6)"
   ],
   "metadata": {
    "collapsed": false,
    "pycharm": {
     "name": "#%%\n"
    }
   }
  },
  {
   "cell_type": "code",
   "execution_count": 69,
   "outputs": [],
   "source": [],
   "metadata": {
    "collapsed": false,
    "pycharm": {
     "name": "#%%\n"
    }
   }
  },
  {
   "cell_type": "code",
   "execution_count": 69,
   "outputs": [],
   "source": [
    "afinn = Afinn()\n",
    "km."
   ],
   "metadata": {
    "collapsed": false,
    "pycharm": {
     "name": "#%%\n"
    }
   }
  },
  {
   "cell_type": "code",
   "execution_count": null,
   "outputs": [],
   "source": [],
   "metadata": {
    "collapsed": false,
    "pycharm": {
     "name": "#%%\n"
    }
   }
  }
 ],
 "metadata": {
  "kernelspec": {
   "display_name": "Python 3",
   "language": "python",
   "name": "python3"
  },
  "language_info": {
   "codemirror_mode": {
    "name": "ipython",
    "version": 2
   },
   "file_extension": ".py",
   "mimetype": "text/x-python",
   "name": "python",
   "nbconvert_exporter": "python",
   "pygments_lexer": "ipython2",
   "version": "2.7.6"
  }
 },
 "nbformat": 4,
 "nbformat_minor": 0
}