{
 "cells": [
  {
   "cell_type": "code",
   "execution_count": 57,
   "metadata": {
    "collapsed": true,
    "pycharm": {
     "name": "#%%\n"
    }
   },
   "outputs": [],
   "source": [
    "from nltk.tokenize import RegexpTokenizer\n",
    "from nltk import word_tokenize\n",
    "import time"
   ]
  },
  {
   "cell_type": "markdown",
   "source": [
    "## Naive indexer code"
   ],
   "metadata": {
    "collapsed": false,
    "pycharm": {
     "name": "#%% md\n"
    }
   }
  },
  {
   "cell_type": "code",
   "execution_count": 58,
   "outputs": [
    {
     "name": "stdout",
     "output_type": "stream",
     "text": [
      "Reached 10,000 tokens\n",
      "Naive indexer took: 0.5081589221954346 seconds\n"
     ]
    }
   ],
   "source": [
    "content_tokenizer = RegexpTokenizer('<TEXT.*?>(.*?)</TEXT>')\n",
    "article_tokenizer = RegexpTokenizer('<REUTERS(.*?)</REUTERS>')\n",
    "id_tokenizer = RegexpTokenizer('NEWID=\"(.*?)\"')\n",
    "metadata_tokenizer = RegexpTokenizer('<.*?>')\n",
    "html_entities_tokenizer = RegexpTokenizer('^&.*?;')\n",
    "postings_list = {}\n",
    "f = []\n",
    "reuters_corpus = []\n",
    "token_count = 0\n",
    "\n",
    "\n",
    "def remove_metadata(text):\n",
    "    tags = metadata_tokenizer.tokenize(text)\n",
    "    html_entities = html_entities_tokenizer.tokenize(text)\n",
    "    metadata = tags + html_entities\n",
    "    if len(metadata) > 0:\n",
    "        for element in metadata:\n",
    "            text = text.replace(element, '')\n",
    "    return text\n",
    "\n",
    "\n",
    "def remove_punctuation(tokens):\n",
    "    punctuation_list = [*\".,:;-<>{}()[]~`\"]\n",
    "    double_symbols = ['\"\"', \"''\", \"``\", \"...\"]\n",
    "    punctuation_list += double_symbols\n",
    "    for t in tokens:\n",
    "        if t in punctuation_list:\n",
    "            tokens.remove(t)\n",
    "    return tokens\n",
    "\n",
    "\n",
    "# Start timer\n",
    "start_time = time.time()\n",
    "\n",
    "for i in range(22):\n",
    "    doc = f\"./reuters21578/reut2-0{i:02d}.sgm\"\n",
    "    try:\n",
    "        if i != 17:\n",
    "            with open(doc, 'rt') as file:\n",
    "                file = file.read()\n",
    "        else:\n",
    "            # Needed as file 17 gave me UnicodeDecodeError\n",
    "            file = open(doc, mode=\"rb\")\n",
    "            file = file.read()\n",
    "            file = str(file)\n",
    "        articles = article_tokenizer.tokenize(file)\n",
    "\n",
    "        for article in articles:\n",
    "            ID = id_tokenizer.tokenize(article)[0]  # Get ID\n",
    "            contents = content_tokenizer.tokenize(article)  # Get content inside <TEXT> tags\n",
    "            contents = ' '.join(contents)\n",
    "            contents = remove_metadata(contents)\n",
    "            # Tokenize article content, need to get title and body\n",
    "            tokens = word_tokenize(contents)\n",
    "            tokens = remove_punctuation(tokens)\n",
    "            for token in tokens:\n",
    "                token_count += 1\n",
    "                if token_count == 10000:\n",
    "                    raise StopIteration\n",
    "                f.append((ID, token))\n",
    "    except IOError:\n",
    "        print(\"Error: File does not exist\")\n",
    "    except StopIteration:\n",
    "        print(\"Reached 10,000 tokens\")\n",
    "        break\n",
    "\n",
    "# Sort and remove duplicates\n",
    "f.sort(key=lambda x: int(x[0]))\n",
    "f = list(dict.fromkeys(f))\n",
    "index_naive = {}\n",
    "for pair in f:\n",
    "    # Pair[0] is docID and pair[1] is word\n",
    "    if pair[1] in index_naive:\n",
    "        index_naive[pair[1]].append(pair[0])\n",
    "    else:\n",
    "        index_naive[pair[1]] = [pair[0]]\n",
    "\n",
    "# End timer\n",
    "print(f\"Naive indexer took: {(time.time() - start_time)} seconds\")"
   ],
   "metadata": {
    "collapsed": false,
    "pycharm": {
     "name": "#%%\n"
    }
   }
  },
  {
   "cell_type": "markdown",
   "source": [
    "## SPIMI indexer"
   ],
   "metadata": {
    "collapsed": false,
    "pycharm": {
     "name": "#%% md\n"
    }
   }
  },
  {
   "cell_type": "code",
   "execution_count": 59,
   "outputs": [
    {
     "name": "stdout",
     "output_type": "stream",
     "text": [
      "Reached 10,000 tokens\n",
      "SPIMI indexer took: 0.16207098960876465 seconds\n"
     ]
    }
   ],
   "source": [
    "reuters_corpus = []\n",
    "token_count = 0\n",
    "index_spimi = {}\n",
    "\n",
    "# Start timer\n",
    "start_time = time.time()\n",
    "\n",
    "for i in range(22):\n",
    "    doc = f\"./reuters21578/reut2-0{i:02d}.sgm\"\n",
    "    try:\n",
    "        if i != 17:\n",
    "            with open(doc, 'rt') as file:\n",
    "                file = file.read()\n",
    "        else:\n",
    "            # Needed as file 17 gave me UnicodeDecodeError\n",
    "            file = open(doc, mode=\"rb\")\n",
    "            file = file.read()\n",
    "            file = str(file)\n",
    "        articles = article_tokenizer.tokenize(file)\n",
    "\n",
    "        for article in articles:\n",
    "            ID = id_tokenizer.tokenize(article)[0]  # Get ID\n",
    "            contents = content_tokenizer.tokenize(article)  # Get content inside <TEXT> tags\n",
    "            contents = ' '.join(contents)\n",
    "            contents = remove_metadata(contents)\n",
    "            # Tokenize article content, need to get title and body\n",
    "            tokens = word_tokenize(contents)\n",
    "            tokens = remove_punctuation(tokens)\n",
    "            for token in tokens:\n",
    "                token_count += 1\n",
    "                if token_count == 10000:\n",
    "                    raise StopIteration\n",
    "                if token in index_spimi and not ID in index_spimi[token]:\n",
    "                    index_spimi[token].append(ID)\n",
    "                else:\n",
    "                    index_spimi[token] = [ID]\n",
    "\n",
    "    except IOError:\n",
    "        print(\"Error: File does not exist\")\n",
    "    except StopIteration:\n",
    "        print(\"Reached 10,000 tokens\")\n",
    "        break\n",
    "\n",
    "# End timer\n",
    "print(f\"SPIMI indexer took: {(time.time() - start_time)} seconds\")"
   ],
   "metadata": {
    "collapsed": false,
    "pycharm": {
     "name": "#%%\n"
    }
   }
  },
  {
   "cell_type": "markdown",
   "source": [
    "## Create inverted index without compression techniques"
   ],
   "metadata": {
    "collapsed": false,
    "pycharm": {
     "name": "#%% md\n"
    }
   }
  },
  {
   "cell_type": "code",
   "execution_count": 62,
   "outputs": [
    {
     "name": "stdout",
     "output_type": "stream",
     "text": [
      "Whole corpus indexer took: 28.37154483795166 seconds\n"
     ]
    }
   ],
   "source": [
    "reuters_corpus = []\n",
    "index_spimi = {}\n",
    "\n",
    "# Start timer\n",
    "start_time = time.time()\n",
    "\n",
    "for i in range(22):\n",
    "    doc = f\"./reuters21578/reut2-0{i:02d}.sgm\"\n",
    "    try:\n",
    "        if i != 17:\n",
    "            with open(doc, 'rt') as file:\n",
    "                file = file.read()\n",
    "        else:\n",
    "            # Needed as file 17 gave me UnicodeDecodeError\n",
    "            file = open(doc, mode=\"rb\")\n",
    "            file = file.read()\n",
    "            file = str(file)\n",
    "        articles = article_tokenizer.tokenize(file)\n",
    "\n",
    "        for article in articles:\n",
    "            ID = id_tokenizer.tokenize(article)[0]  # Get ID\n",
    "            contents = content_tokenizer.tokenize(article)  # Get content inside <TEXT> tags\n",
    "            contents = ' '.join(contents)\n",
    "            contents = remove_metadata(contents)\n",
    "            # Tokenize article content, need to get title and body\n",
    "            tokens = word_tokenize(contents)\n",
    "            tokens = remove_punctuation(tokens)\n",
    "            for token in tokens:\n",
    "                if token in index_spimi and not ID in index_spimi[token]:\n",
    "                    index_spimi[token].append(ID)\n",
    "                else:\n",
    "                    index_spimi[token] = [ID]\n",
    "\n",
    "    except IOError:\n",
    "        print(\"Error: File does not exist\")\n",
    "\n",
    "# End timer\n",
    "print(f\"Whole corpus indexer took: {(time.time() - start_time)} seconds\")"
   ],
   "metadata": {
    "collapsed": false,
    "pycharm": {
     "name": "#%%\n"
    }
   }
  },
  {
   "cell_type": "code",
   "execution_count": null,
   "outputs": [],
   "source": [],
   "metadata": {
    "collapsed": false,
    "pycharm": {
     "name": "#%%\n"
    }
   }
  }
 ],
 "metadata": {
  "kernelspec": {
   "display_name": "Python 3",
   "language": "python",
   "name": "python3"
  },
  "language_info": {
   "codemirror_mode": {
    "name": "ipython",
    "version": 2
   },
   "file_extension": ".py",
   "mimetype": "text/x-python",
   "name": "python",
   "nbconvert_exporter": "python",
   "pygments_lexer": "ipython2",
   "version": "2.7.6"
  }
 },
 "nbformat": 4,
 "nbformat_minor": 0
}