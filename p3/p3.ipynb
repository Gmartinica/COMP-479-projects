{
 "cells": [
  {
   "cell_type": "code",
   "execution_count": 10,
   "metadata": {
    "collapsed": true,
    "pycharm": {
     "name": "#%%\n"
    }
   },
   "outputs": [],
   "source": [
    "from nltk.tokenize import RegexpTokenizer\n",
    "from nltk import word_tokenize\n",
    "import time\n",
    "from math import log"
   ]
  },
  {
   "cell_type": "markdown",
   "metadata": {
    "pycharm": {
     "name": "#%% md\n"
    }
   },
   "source": [
    "## Getting subcorpus of 10,000 tokens"
   ]
  },
  {
   "cell_type": "code",
   "execution_count": 11,
   "metadata": {
    "pycharm": {
     "name": "#%%\n"
    }
   },
   "outputs": [
    {
     "name": "stdout",
     "output_type": "stream",
     "text": [
      "Reached 10,000 tokens\n"
     ]
    }
   ],
   "source": [
    "content_tokenizer = RegexpTokenizer('<TEXT.*?>(.*?)</TEXT>')\n",
    "article_tokenizer = RegexpTokenizer('<REUTERS(.*?)</REUTERS>')\n",
    "id_tokenizer = RegexpTokenizer('NEWID=\"(.*?)\"')\n",
    "metadata_tokenizer = RegexpTokenizer('<.*?>')\n",
    "html_entities_tokenizer = RegexpTokenizer('^&.*?;')\n",
    "token_count = 0\n",
    "sub_corpus = []\n",
    "\n",
    "\n",
    "def remove_metadata(text):\n",
    "    tags = metadata_tokenizer.tokenize(text)\n",
    "    html_entities = html_entities_tokenizer.tokenize(text)\n",
    "    metadata = tags + html_entities\n",
    "    if len(metadata) > 0:\n",
    "        for element in metadata:\n",
    "            text = text.replace(element, '')\n",
    "    return text\n",
    "\n",
    "\n",
    "def remove_punctuation(tokens):\n",
    "    punctuation_list = [*\".,:;-<>{}()[]~`&*?\"]\n",
    "    double_symbols = ['\"\"', \"''\", \"``\", \"...\", \"--\", \"-\", \",\"]\n",
    "    punctuation_list += double_symbols\n",
    "    for t in tokens:\n",
    "        if t in punctuation_list:\n",
    "            tokens.remove(t)\n",
    "    return tokens\n",
    "\n",
    "\n",
    "for i in range(22):\n",
    "    doc = f\"./reuters21578/reut2-0{i:02d}.sgm\"\n",
    "    try:\n",
    "        if i != 17:\n",
    "            with open(doc, 'rt') as file:\n",
    "                file = file.read()\n",
    "        else:\n",
    "            # Needed as file 17 gave me UnicodeDecodeError\n",
    "            file = open(doc, mode=\"rb\")\n",
    "            file = file.read()\n",
    "            file = str(file)\n",
    "        articles = article_tokenizer.tokenize(file)\n",
    "\n",
    "        for article in articles:\n",
    "            ID = id_tokenizer.tokenize(article)[0]  # Get ID\n",
    "            contents = content_tokenizer.tokenize(article)  # Get content inside <TEXT> tags\n",
    "            contents = ' '.join(contents)\n",
    "            contents = remove_metadata(contents)\n",
    "            # Tokenize article content, need to get title and body\n",
    "            tokens = word_tokenize(contents)\n",
    "            tokens = remove_punctuation(tokens)\n",
    "            # Add ID to sub_corpus element\n",
    "            sub_corpus.append([ID])\n",
    "            article_tokens = []\n",
    "            for token in tokens:\n",
    "                token_count += 1\n",
    "                if token_count < 10000:\n",
    "                    article_tokens.append(token)\n",
    "                else:\n",
    "                    sub_corpus[int(ID) - 1].append(article_tokens)\n",
    "                    raise StopIteration\n",
    "            sub_corpus[int(ID) - 1].append(article_tokens)\n",
    "    except IOError:\n",
    "        print(\"Error: File does not exist\")\n",
    "    except StopIteration:\n",
    "        print(\"Reached 10,000 tokens\")\n",
    "        break"
   ]
  },
  {
   "cell_type": "code",
   "execution_count": 12,
   "metadata": {
    "pycharm": {
     "name": "#%%\n"
    }
   },
   "outputs": [
    {
     "name": "stdout",
     "output_type": "stream",
     "text": [
      "[['1', ['BAHIA', 'COCOA', 'REVIEW', 'SALVADOR', 'Feb', '26', 'Showers', 'continued', 'throughout', 'the', 'week', 'in', 'the', 'Bahia', 'cocoa', 'zone', 'alleviating', 'the', 'drought', 'since', 'early', 'January', 'and', 'improving', 'prospects', 'for', 'the', 'coming', 'temporao', 'although', 'normal', 'humidity', 'levels', 'have', 'not', 'been', 'restored', 'Comissaria', 'Smith', 'said', 'in', 'its', 'weekly', 'review', 'The', 'dry', 'period', 'means', 'the', 'temporao', 'will', 'be', 'late', 'this', 'year', 'Arrivals', 'for', 'the', 'week', 'ended', 'February', '22', 'were', '155,221', 'bags', 'of', '60', 'kilos', 'making', 'a', 'cumulative', 'total', 'for', 'the', 'season', 'of', '5.93', 'mln', 'against', '5.81', 'at', 'the', 'same', 'stage', 'last', 'year', 'Again', 'it', 'seems', 'that', 'cocoa', 'delivered', 'earlier', 'on', 'consignment', 'was', 'included', 'in', 'the', 'arrivals', 'figures', 'Comissaria', 'Smith', 'said', 'there', 'is', 'still', 'some', 'doubt', 'as', 'to', 'how', 'much', 'old', 'crop', 'cocoa', 'is', 'still', 'available', 'as', 'harvesting', 'has', 'practically', 'come', 'to', 'an', 'end', 'With', 'total', 'Bahia', 'crop', 'estimates', 'around', '6.4', 'mln', 'bags', 'and', 'sales', 'standing', 'at', 'almost', '6.2', 'mln', 'there', 'are', 'a', 'few', 'hundred', 'thousand', 'bags', 'still', 'in', 'the', 'hands', 'of', 'farmers', 'middlemen', 'exporters', 'and', 'processors', 'There', 'are', 'doubts', 'as', 'to', 'how', 'much', 'of', 'this', 'cocoa', 'would', 'be', 'fit', 'for', 'export', 'as', 'shippers', 'are', 'now', 'experiencing', 'dificulties', 'in', 'obtaining', '+Bahia', 'superior+', 'certificates', 'In', 'view', 'of', 'the', 'lower', 'quality', 'over', 'recent', 'weeks', 'farmers', 'have', 'sold', 'a', 'good', 'part', 'of', 'their', 'cocoa', 'held', 'on', 'consignment', 'Comissaria', 'Smith', 'said', 'spot', 'bean', 'prices', 'rose', 'to', '340', 'to', '350', 'cruzados', 'per', 'arroba', 'of', '15', 'kilos', 'Bean', 'shippers', 'were', 'reluctant', 'to', 'offer', 'nearby', 'shipment', 'and', 'only', 'limited', 'sales', 'were', 'booked', 'for', 'March', 'shipment', 'at', '1,750', 'to', '1,780', 'dlrs', 'per', 'tonne', 'to', 'ports', 'to', 'be', 'named', 'New', 'crop', 'sales', 'were', 'also', 'light', 'and', 'all', 'to', 'open', 'ports', 'with', 'June/July', 'going', 'at', '1,850', 'and', '1,880', 'dlrs', 'and', 'at', '35', 'and', '45', 'dlrs', 'under', 'New', 'York', 'july', 'Aug/Sept', 'at', '1,870', '1,875', 'and', '1,880', 'dlrs', 'per', 'tonne', 'FOB', 'Routine', 'sales', 'of', 'butter', 'were', 'made', 'March/April', 'sold', 'at', '4,340', '4,345', 'and', '4,350', 'dlrs', 'April/May', 'butter', 'went', 'at', '2.27', 'times', 'New', 'York', 'May', 'June/July', 'at', '4,400', 'and', '4,415', 'dlrs', 'Aug/Sept', 'at', '4,351', 'to', '4,450', 'dlrs', 'and', 'at', '2.27', 'and', '2.28', 'times', 'New', 'York', 'Sept', 'and', 'Oct/Dec', 'at', '4,480', 'dlrs', 'and', '2.27', 'times', 'New', 'York', 'Dec', 'Comissaria', 'Smith', 'said', 'Destinations', 'were', 'the', 'U.S.', 'Covertible', 'currency', 'areas', 'Uruguay', 'and', 'open', 'ports', 'Cake', 'sales', 'were', 'registered', 'at', '785', 'to', '995', 'dlrs', 'for', 'March/April', '785', 'dlrs', 'for', 'May', '753', 'dlrs', 'for', 'Aug', 'and', '0.39', 'times', 'New', 'York', 'Dec', 'for', 'Oct/Dec', 'Buyers', 'were', 'the', 'U.S.', 'Argentina', 'Uruguay', 'and', 'convertible', 'currency', 'areas', 'Liquor', 'sales', 'were', 'limited', 'with', 'March/April', 'selling', 'at', '2,325', 'and', '2,380', 'dlrs', 'June/July', 'at', '2,375', 'dlrs', 'and', 'at', '1.25', 'times', 'New', 'York', 'July', 'Aug/Sept', 'at', '2,400', 'dlrs', 'and', 'at', '1.25', 'times', 'New', 'York', 'Sept', 'and', 'Oct/Dec', 'at', '1.25', 'times', 'New', 'York', 'Dec', 'Comissaria', 'Smith', 'said', 'Total', 'Bahia', 'sales', 'are', 'currently', 'estimated', 'at', '6.13', 'mln', 'bags', 'against', 'the', '1986/87', 'crop', 'and', '1.06', 'mln', 'bags', 'against', 'the', '1987/88', 'crop', 'Final', 'figures', 'for', 'the', 'period', 'to', 'February', '28', 'are', 'expected', 'to', 'be', 'published', 'by', 'the', 'Brazilian', 'Cocoa', 'Trade', 'Commission', 'after', 'carnival', 'which', 'ends', 'midday', 'on', 'February', '27', 'Reuter']], ['2', ['STANDARD', 'OIL', 'lt', 'SRD', 'TO', 'FORM', 'FINANCIAL', 'UNIT', 'CLEVELAND', 'Feb', '26', 'Standard', 'Oil', 'Co', 'and', 'BP', 'North', 'America', 'Inc', 'said', 'they', 'plan', 'to', 'form', 'a', 'venture', 'to', 'manage', 'the', 'money', 'market', 'borrowing', 'and', 'investment', 'activities', 'of', 'both', 'companies', 'BP', 'North', 'America', 'is', 'a', 'subsidiary', 'of', 'British', 'Petroleum', 'Co', 'Plc', 'lt', 'BP', ',', 'which', 'also', 'owns', 'a', '55', 'pct', 'interest', 'in', 'Standard', 'Oil', 'The', 'venture', 'will', 'be', 'called', 'BP/Standard', 'Financial', 'Trading', 'and', 'will', 'be', 'operated', 'by', 'Standard', 'Oil', 'under', 'the', 'oversight', 'of', 'a', 'joint', 'management', 'committee', 'Reuter']], ['3', ['TEXAS', 'COMMERCE', 'BANCSHARES', 'lt', 'TCB', 'FILES', 'PLAN', 'HOUSTON', 'Feb', '26', 'Texas', 'Commerce', 'Bancshares', 'Inc', \"'s\", 'Texas', 'Commerce', 'Bank-Houston', 'said', 'it', 'filed', 'an', 'application', 'with', 'the', 'Comptroller', 'of', 'the', 'Currency', 'in', 'an', 'effort', 'to', 'create', 'the', 'largest', 'banking', 'network', 'in', 'Harris', 'County', 'The', 'bank', 'said', 'the', 'network', 'would', 'link', '31', 'banks', 'having', '13.5', 'billion', 'dlrs', 'in', 'assets', 'and', '7.5', 'billion', 'dlrs', 'in', 'deposits', 'Reuter']], ['4', ['TALKING', 'POINT/BANKAMERICA', 'lt', 'BAC', 'EQUITY', 'OFFER', 'by', 'Janie', 'Gabbett', 'Reuters', 'LOS', 'ANGELES', 'Feb', '26', 'BankAmerica', 'Corp', 'is', 'not', 'under', 'pressure', 'to', 'act', 'quickly', 'on', 'its', 'proposed', 'equity', 'offering', 'and', 'would', 'do', 'well', 'to', 'delay', 'it', 'because', 'of', 'the', 'stock', \"'s\", 'recent', 'poor', 'performance', 'banking', 'analysts', 'said', 'Some', 'analysts', 'said', 'they', 'have', 'recommended', 'BankAmerica', 'delay', 'its', 'up', 'to', 'one-billion-dlr', 'equity', 'offering', 'which', 'has', 'yet', 'to', 'be', 'approved', 'by', 'the', 'Securities', 'and', 'Exchange', 'Commission', 'BankAmerica', 'stock', 'fell', 'this', 'week', 'along', 'with', 'other', 'banking', 'issues', 'on', 'the', 'news', 'that', 'Brazil', 'has', 'suspended', 'interest', 'payments', 'on', 'a', 'large', 'portion', 'of', 'its', 'foreign', 'debt', 'The', 'stock', 'traded', 'around', '12', 'down', '1/8', 'this', 'afternoon', 'after', 'falling', 'to', '11-1/2', 'earlier', 'this', 'week', 'on', 'the', 'news', 'Banking', 'analysts', 'said', 'that', 'with', 'the', 'immediate', 'threat', 'of', 'the', 'First', 'Interstate', 'Bancorp', 'lt', 'I', 'takeover', 'bid', 'gone', 'BankAmerica', 'is', 'under', 'no', 'pressure', 'to', 'sell', 'the', 'securities', 'into', 'a', 'market', 'that', 'will', 'be', 'nervous', 'on', 'bank', 'stocks', 'in', 'the', 'near', 'term', 'BankAmerica', 'filed', 'the', 'offer', 'on', 'January', '26', 'It', 'was', 'seen', 'as', 'one', 'of', 'the', 'major', 'factors', 'leading', 'the', 'First', 'Interstate', 'withdrawing', 'its', 'takeover', 'bid', 'on', 'February', '9', 'A', 'BankAmerica', 'spokesman', 'said', 'SEC', 'approval', 'is', 'taking', 'longer', 'than', 'expected', 'and', 'market', 'conditions', 'must', 'now', 'be', 're-evaluated', '``', 'The', 'circumstances', 'at', 'the', 'time', 'will', 'determine', 'what', 'we', 'do', \"''\", 'said', 'Arthur', 'Miller', 'BankAmerica', \"'s\", 'Vice', 'President', 'for', 'Financial', 'Communications', 'when', 'asked', 'if', 'BankAmerica', 'would', 'proceed', 'with', 'the', 'offer', 'immediately', 'after', 'it', 'receives', 'SEC', 'approval', '``', 'I', \"'d\", 'put', 'it', 'off', 'as', 'long', 'as', 'they', 'conceivably', 'could', \"''\", 'said', 'Lawrence', 'Cohn', 'analyst', 'with', 'Merrill', 'Lynch', 'Pierce', 'Fenner', 'and', 'Smith', 'Cohn', 'said', 'the', 'longer', 'BankAmerica', 'waits', 'the', 'longer', 'they', 'have', 'to', 'show', 'the', 'market', 'an', 'improved', 'financial', 'outlook', 'Although', 'BankAmerica', 'has', 'yet', 'to', 'specify', 'the', 'types', 'of', 'equities', 'it', 'would', 'offer', 'most', 'analysts', 'believed', 'a', 'convertible', 'preferred', 'stock', 'would', 'encompass', 'at', 'least', 'part', 'of', 'it', 'Such', 'an', 'offering', 'at', 'a', 'depressed', 'stock', 'price', 'would', 'mean', 'a', 'lower', 'conversion', 'price', 'and', 'more', 'dilution', 'to', 'BankAmerica', 'stock', 'holders', 'noted', 'Daniel', 'Williams', 'analyst', 'with', 'Sutro', 'Group', 'Several', 'analysts', 'said', 'that', 'while', 'they', 'believe', 'the', 'Brazilian', 'debt', 'problem', 'will', 'continue', 'to', 'hang', 'over', 'the', 'banking', 'industry', 'through', 'the', 'quarter', 'the', 'initial', 'shock', 'reaction', 'is', 'likely', 'to', 'ease', 'over', 'the', 'coming', 'weeks', 'Nevertheless', 'BankAmerica', 'which', 'holds', 'about', '2.70', 'billion', 'dlrs', 'in', 'Brazilian', 'loans', 'stands', 'to', 'lose', '15-20', 'mln', 'dlrs', 'if', 'the', 'interest', 'rate', 'is', 'reduced', 'on', 'the', 'debt', 'and', 'as', 'much', 'as', '200', 'mln', 'dlrs', 'if', 'Brazil', 'pays', 'no', 'interest', 'for', 'a', 'year', 'said', 'Joseph', 'Arsenio', 'analyst', 'with', 'Birr', 'Wilson', 'and', 'Co', 'He', 'noted', 'however', 'that', 'any', 'potential', 'losses', 'would', 'not', 'show', 'up', 'in', 'the', 'current', 'quarter', 'With', 'other', 'major', 'banks', 'standing', 'to', 'lose', 'even', 'more', 'than', 'BankAmerica', 'if', 'Brazil', 'fails', 'to', 'service', 'its', 'debt', 'the', 'analysts', 'said', 'they', 'expect', 'the', 'debt', 'will', 'be', 'restructured', 'similar', 'to', 'way', 'Mexico', \"'s\", 'debt', 'was', 'minimizing', 'losses', 'to', 'the', 'creditor', 'banks', 'Reuter']], ['5', ['NATIONAL', 'AVERAGE', 'PRICES', 'FOR', 'FARMER-OWNED', 'RESERVE', 'WASHINGTON', 'Feb', '26', 'The', 'U.S.', 'Agriculture', 'Department', 'reported', 'the', 'farmer-owned', 'reserve', 'national', 'five-day', 'average', 'price', 'through', 'February', '25', 'as', 'follows', 'Dlrs/Bu-Sorghum', 'Cwt', 'Natl', 'Loan', 'Release', 'Call', 'Avge', 'Rate-X', 'Level', 'Price', 'Price', 'Wheat', '2.55', '2.40', 'IV', '4.65', 'V', '4.65', 'VI', '4.45', 'Corn', '1.35', '1.92', 'IV', '3.15', '3.15', 'V', '3.25', 'X', '-', '1986', 'Rates', 'Natl', 'Loan', 'Release', 'Call', 'Avge', 'Rate-X', 'Level', 'Price', 'Price', 'Oats', '1.24', '0.99', 'V', '1.65', 'Barley', 'n.a', '1.56', 'IV', '2.55', '2.55', 'V', '2.65', 'Sorghum', '2.34', '3.25-Y', 'IV', '5.36', '5.36', 'V', '5.54', 'Reserves', 'I', 'II', 'and', 'III', 'have', 'matured', 'Level', 'IV', 'reflects', 'grain', 'entered', 'after', 'Oct', '6', '1981', 'for', 'feedgrain', 'and', 'after', 'July', '23', '1981', 'for', 'wheat', 'Level', 'V', 'wheat/barley', 'after', '5/14/82', 'corn/sorghum', 'after', '7/1/82', 'Level', 'VI', 'covers', 'wheat', 'entered', 'after', 'January', '19', '1984', 'X-1986', 'rates', 'Y-dlrs', 'per', 'CWT', '100', 'lbs', 'n.a.-not', 'available', '.', 'Reuter']], ['6', ['ARGENTINE', '1986/87', 'GRAIN/OILSEED', 'REGISTRATIONS', 'BUENOS', 'AIRES', 'Feb', '26', 'Argentine', 'grain', 'board', 'figures', 'show', 'crop', 'registrations', 'of', 'grains', 'oilseeds', 'and', 'their', 'products', 'to', 'February', '11', 'in', 'thousands', 'of', 'tonnes', 'showing', 'those', 'for', 'futurE', 'shipments', 'month', '1986/87', 'total', 'and', '1985/86', 'total', 'to', 'February', '12', '1986', 'in', 'brackets', 'Bread', 'wheat', 'prev', '1,655.8', 'Feb', '872.0', 'March', '164.6', 'total', '2,692.4', '4,161.0', '.', 'Maize', 'Mar', '48.0', 'total', '48.0', 'nil', '.', 'Sorghum', 'nil', 'nil', 'Oilseed', 'export', 'registrations', 'were', 'Sunflowerseed', 'total', '15.0', '7.9', 'Soybean', 'May', '20.0', 'total', '20.0', 'nil', 'The', 'board', 'also', 'detailed', 'export', 'registrations', 'for', 'subproducts', 'as', 'follows', 'SUBPRODUCTS', 'Wheat', 'prev', '39.9', 'Feb', '48.7', 'March', '13.2', 'Apr', '10.0', 'total', '111.8', '82.7', '.', 'Linseed', 'prev', '34.8', 'Feb', '32.9', 'Mar', '6.8', 'Apr', '6.3', 'total', '80.8', '87.4', '.', 'Soybean', 'prev', '100.9', 'Feb', '45.1', 'MAr', 'nil', 'Apr', 'nil', 'May', '20.0', 'total', '166.1', '218.5', '.', 'Sunflowerseed', 'prev', '48.6', 'Feb', '61.5', 'Mar', '25.1', 'Apr', '14.5', 'total', '149.8', '145.3', '.', 'Vegetable', 'oil', 'registrations', 'were', 'Sunoil', 'prev', '37.4', 'Feb', '107.3', 'Mar', '24.5', 'Apr', '3.2', 'May', 'nil', 'Jun', '10.0', 'total', '182.4', '117.6', '.', 'Linoil', 'prev', '15.9', 'Feb', '23.6', 'Mar', '20.4', 'Apr', '2.0', 'total', '61.8', '76.1', '.', 'Soybean', 'oil', 'prev', '3.7', 'Feb', '21.1', 'Mar', 'nil', 'Apr', '2.0', 'May', '9.0', 'Jun', '13.0', 'Jul', '7.0', 'total', '55.8', '(', '33.7', '.', 'REUTER']], ['7', ['RED', 'LION', 'INNS', 'FILES', 'PLANS', 'OFFERING', 'PORTLAND', 'Ore.', 'Feb', '26', 'Red', 'Lion', 'Inns', 'Limited', 'Partnership', 'said', 'it', 'filed', 'a', 'registration', 'statement', 'with', 'the', 'Securities', 'and', 'Exchange', 'Commission', 'covering', 'a', 'proposed', 'offering', 'of', '4,790,000', 'units', 'of', 'limited', 'partnership', 'interests', 'The', 'company', 'said', 'it', 'expects', 'the', 'offering', 'to', 'be', 'priced', 'at', '20', 'dlrs', 'per', 'unit', 'It', 'said', 'proceeds', 'from', 'the', 'offering', 'along', 'with', 'a', '102.5', 'mln', 'dlr', 'mortgage', 'loan', 'will', 'be', 'used', 'to', 'finance', 'its', 'planned', 'acquisition', 'of', '10', 'Red', 'Lion', 'hotels', 'Reuter']], ['8', ['USX', 'lt', 'X', 'DEBT', 'DOWGRADED', 'BY', \"MOODY'S\", 'NEW', 'YORK', 'Feb', '26', 'Moody', \"'s\", 'Investors', 'Service', 'Inc', 'said', 'it', 'lowered', 'the', 'debt', 'and', 'preferred', 'stock', 'ratings', 'of', 'USX', 'Corp', 'and', 'its', 'units', 'About', 'seven', 'billion', 'dlrs', 'of', 'securities', 'is', 'affected', 'Moody', \"'s\", 'said', 'Marathon', 'Oil', 'Co', \"'s\", 'recent', 'establishment', 'of', 'up', 'to', 'one', 'billion', 'dlrs', 'in', 'production', 'payment', 'facilities', 'on', 'its', 'prolific', 'Yates', 'Field', 'has', 'significant', 'negative', 'implications', 'for', 'USX', \"'s\", 'unsecured', 'creditors', 'The', 'company', 'appears', 'to', 'have', 'positioned', 'its', 'steel', 'segment', 'for', 'a', 'return', 'to', 'profit', 'by', 'late', '1987', 'Moody', \"'s\", 'added', 'Ratings', 'lowered', 'include', 'those', 'on', 'USX', \"'s\", 'senior', 'debt', 'to', 'BA-1', 'from', 'BAA-3', 'Reuter']], ['9', ['CHAMPION', 'PRODUCTS', 'lt', 'CH', 'APPROVES', 'STOCK', 'SPLIT', 'ROCHESTER', 'N.Y.', 'Feb', '26', 'Champion', 'Products', 'Inc', 'said', 'its', 'board', 'of', 'directors', 'approved', 'a', 'two-for-one', 'stock', 'split', 'of', 'its', 'common', 'shares', 'for', 'shareholders', 'of', 'record', 'as', 'of', 'April', '1', '1987', 'The', 'company', 'also', 'said', 'its', 'board', 'voted', 'to', 'recommend', 'to', 'shareholders', 'at', 'the', 'annual', 'meeting', 'April', '23', 'an', 'increase', 'in', 'the', 'authorized', 'capital', 'stock', 'from', 'five', 'mln', 'to', '25', 'mln', 'shares', 'Reuter']], ['10', ['COMPUTER', 'TERMINAL', 'SYSTEMS', 'CPML', 'COMPLETES', 'SALE', 'COMMACK', 'N.Y.', 'Feb', '26', 'Computer', 'Terminal', 'Systems', 'Inc', 'said', 'it', 'has', 'completed', 'the', 'sale', 'of', '200,000', 'shares', 'of', 'its', 'common', 'stock', 'and', 'warrants', 'to', 'acquire', 'an', 'additional', 'one', 'mln', 'shares', 'to', 'Sedio', 'N.V.', 'of', 'Lugano', 'Switzerland', 'for', '50,000', 'dlrs', 'The', 'company', 'said', 'the', 'warrants', 'are', 'exercisable', 'for', 'five', 'years', 'at', 'a', 'purchase', 'price', 'of', '.125', 'dlrs', 'per', 'share', 'Computer', 'Terminal', 'said', 'Sedio', 'also', 'has', 'the', 'right', 'to', 'buy', 'additional', 'shares', 'and', 'increase', 'its', 'total', 'holdings', 'up', 'to', '40', 'pct', 'of', 'the', 'Computer', 'Terminal', \"'s\", 'outstanding', 'common', 'stock', 'under', 'certain', 'circumstances', 'involving', 'change', 'of', 'control', 'at', 'the', 'company', 'The', 'company', 'said', 'if', 'the', 'conditions', 'occur', 'the', 'warrants', 'would', 'be', 'exercisable', 'at', 'a', 'price', 'equal', 'to', '75', 'pct', 'of', 'its', 'common', \"stock's\", 'market', 'price', 'at', 'the', 'time', 'not', 'to', 'exceed', '1.50', 'dlrs', 'per', 'share', 'Computer', 'Terminal', 'also', 'said', 'it', 'sold', 'the', 'technolgy', 'rights', 'to', 'its', 'Dot', 'Matrix', 'impact', 'technology', 'including', 'any', 'future', 'improvements', 'to', 'Woodco', 'Inc', 'of', 'Houston', 'Tex', 'for', '200,000', 'dlrs', 'But', 'it', 'said', 'it', 'would', 'continue', 'to', 'be', 'the', 'exclusive', 'worldwide', 'licensee', 'of', 'the', 'technology', 'for', 'Woodco', 'The', 'company', 'said', 'the', 'moves', 'were', 'part', 'of', 'its', 'reorganization', 'plan', 'and', 'would', 'help', 'pay', 'current', 'operation', 'costs', 'and', 'ensure', 'product', 'delivery', 'Computer', 'Terminal', 'makes', 'computer', 'generated', 'labels', 'forms', 'tags', 'and', 'ticket', 'printers', 'and', 'terminals', 'Reuter']], ['11', ['COBANCO', 'INC', 'lt', 'CBCO', 'YEAR', 'NET', 'SANTA', 'CRUZ', 'Calif.', 'Feb', '26', 'Shr', '34', 'cts', 'vs', '1.19', 'dlrs', 'Net', '807,000', 'vs', '2,858,000', 'Assets', '510.2', 'mln', 'vs', '479.7', 'mln', 'Deposits', '472.3', 'mln', 'vs', '440.3', 'mln', 'Loans', '299.2', 'mln', 'vs', '327.2', 'mln', 'Note', '4th', 'qtr', 'not', 'available', 'Year', 'includes', '1985', 'extraordinary', 'gain', 'from', 'tax', 'carry', 'forward', 'of', '132,000', 'dlrs', 'or', 'five', 'cts', 'per', 'shr', 'Reuter']], ['12', ['OHIO', 'MATTRESS', 'lt', 'OMT', 'MAY', 'HAVE', 'LOWER', '1ST', 'QTR', 'NET', 'CLEVELAND', 'Feb', '26', 'Ohio', 'Mattress', 'Co', 'said', 'its', 'first', 'quarter', 'ending', 'February', '28', 'profits', 'may', 'be', 'below', 'the', '2.4', 'mln', 'dlrs', 'or', '15', 'cts', 'a', 'share', 'earned', 'in', 'the', 'first', 'quarter', 'of', 'fiscal', '1986', 'The', 'company', 'said', 'any', 'decline', 'would', 'be', 'due', 'to', 'expenses', 'related', 'to', 'the', 'acquisitions', 'in', 'the', 'middle', 'of', 'the', 'current', 'quarter', 'of', 'seven', 'licensees', 'of', 'Sealy', 'Inc', 'as', 'well', 'as', '82', 'pct', 'of', 'the', 'outstanding', 'capital', 'stock', 'of', 'Sealy', 'Because', 'of', 'these', 'acquisitions', 'it', 'said', 'first', 'quarter', 'sales', 'will', 'be', 'substantially', 'higher', 'than', 'last', 'year', \"'s\", '67.1', 'mln', 'dlrs', 'Noting', 'that', 'it', 'typically', 'reports', 'first', 'quarter', 'results', 'in', 'late', 'march', 'said', 'the', 'report', 'is', 'likely', 'to', 'be', 'issued', 'in', 'early', 'April', 'this', 'year', 'It', 'said', 'the', 'delay', 'is', 'due', 'to', 'administrative', 'considerations', 'including', 'conducting', 'appraisals', 'in', 'connection', 'with', 'the', 'acquisitions', 'Reuter']], ['13', ['AM', 'INTERNATIONAL', 'INC', 'lt', 'AM', '2ND', 'QTR', 'JAN', '31', 'CHICAGO', 'Feb', '26', 'Oper', 'shr', 'loss', 'two', 'cts', 'vs', 'profit', 'seven', 'cts', 'Oper', 'shr', 'profit', '442,000', 'vs', 'profit', '2,986,000', 'Revs', '291.8', 'mln', 'vs', '151.1', 'mln', 'Avg', 'shrs', '51.7', 'mln', 'vs', '43.4', 'mln', 'Six', 'mths', 'Oper', 'shr', 'profit', 'nil', 'vs', 'profit', '12', 'cts', 'Oper', 'net', 'profit', '3,376,000', 'vs', 'profit', '5,086,000', 'Revs', '569.3', 'mln', 'vs', '298.5', 'mln', 'Avg', 'shrs', '51.6', 'mln', 'vs', '41.1', 'mln', 'NOTE', 'Per', 'shr', 'calculated', 'after', 'payment', 'of', 'preferred', 'dividends', 'Results', 'exclude', 'credits', 'of', '2,227,000', 'or', 'four', 'cts', 'and', '4,841,000', 'or', 'nine', 'cts', 'for', '1986', 'qtr', 'and', 'six', 'mths', 'vs', '2,285,000', 'or', 'six', 'cts', 'and', '4,104,000', 'or', '11', 'cts', 'for', 'prior', 'periods', 'from', 'operating', 'loss', 'carryforwards', 'Reuter']], ['14', ['BROWN-FORMAN', 'INC', 'lt', 'BFD', '4TH', 'QTR', 'NET', 'LOUISVILLE', 'Ky.', 'Feb', '26', 'Shr', 'one', 'dlr', 'vs', '73', 'cts', 'Net', '12.6', 'mln', 'vs', '15.8', 'mln', 'Revs', '337.3', 'mln', 'vs', '315.2', 'mln', 'Nine', 'mths', 'Shr', '3.07', 'dlrs', 'vs', '3.08', 'dlrs', 'Net', '66', 'mln', 'vs', '66.2', 'mln', 'Revs', '1.59', 'billion', 'vs', '997.1', 'mln', 'Reuter']], ['15', ['NATIONAL', 'INTERGROUP', 'lt', 'NII', 'TO', 'OFFER', 'PERMIAN', 'UNITS', 'PITTSBURGH', 'Feb', '26', 'National', 'Intergroup', 'Inc', 'said', 'it', 'plans', 'to', 'file', 'a', 'registration', 'statement', 'with', 'the', 'securities', 'and', 'exchange', 'commission', 'for', 'an', 'offering', 'of', 'cumulative', 'convertible', 'preferred', 'partnership', 'units', 'in', 'Permian', 'Partners', 'L.P', 'The', 'Permian', 'Partners', 'L.P.', 'was', 'recently', 'formed', 'by', 'National', 'Intergroup', 'to', 'continue', 'to', 'business', 'of', 'Permian', 'Corp', 'acquired', 'by', 'the', 'company', 'in', '1985', 'The', 'company', 'said', 'Permian', 'will', 'continue', 'to', 'manage', 'the', 'business', 'as', 'a', 'general', 'partner', 'retaining', 'a', '35', 'pct', 'stake', 'in', 'the', 'partnership', 'in', 'the', 'form', 'of', 'common', 'and', 'general', 'partnership', 'units', 'It', 'did', 'not', 'say', 'how', 'many', 'units', 'would', 'be', 'offered', 'or', 'what', 'the', 'price', 'would', 'be', 'Reuter']], ['16', ['ECONOMIC', 'SPOTLIGHT', 'BANKAMERICA', 'lt', 'BAC', 'by', 'Janie', 'Gabbett', 'Reuters', 'LOS', 'ANGELES', 'Feb', '26', 'BankAmerica', 'Corp', 'is', 'not', 'under', 'pressure', 'to', 'act', 'quickly', 'on', 'its', 'proposed', 'equity', 'offering', 'and', 'would', 'do', 'well', 'to', 'delay', 'it', 'because', 'of', 'the', 'stock', \"'s\", 'recent', 'poor', 'performance', 'banking', 'analysts', 'said', 'Some', 'analysts', 'said', 'they', 'have', 'recommended', 'BankAmerica', 'delay', 'its', 'up', 'to', 'one-billion-dlr', 'equity', 'offering', 'which', 'has', 'yet', 'to', 'be', 'approved', 'by', 'the', 'Securities', 'and', 'Exchange', 'Commission', 'BankAmerica', 'stock', 'fell', 'this', 'week', 'along', 'with', 'other', 'banking', 'issues', 'on', 'the', 'news', 'that', 'Brazil', 'has', 'suspended', 'interest', 'payments', 'on', 'a', 'large', 'portion', 'of', 'its', 'foreign', 'debt', 'The', 'stock', 'traded', 'around', '12', 'down', '1/8', 'this', 'afternoon', 'after', 'falling', 'to', '11-1/2', 'earlier', 'this', 'week', 'on', 'the', 'news', 'Banking', 'analysts', 'said', 'that', 'with', 'the', 'immediate', 'threat', 'of', 'the', 'First', 'Interstate', 'Bancorp', 'lt', 'I', 'takeover', 'bid', 'gone', 'BankAmerica', 'is', 'under', 'no', 'pressure', 'to', 'sell', 'the', 'securities', 'into', 'a', 'market', 'that', 'will', 'be', 'nervous', 'on', 'bank', 'stocks', 'in', 'the', 'near', 'term', 'BankAmerica', 'filed', 'the', 'offer', 'on', 'January', '26', 'It', 'was', 'seen', 'as', 'one', 'of', 'the', 'major', 'factors', 'leading', 'the', 'First', 'Interstate', 'withdrawing', 'its', 'takeover', 'bid', 'on', 'February', '9', 'A', 'BankAmerica', 'spokesman', 'said', 'SEC', 'approval', 'is', 'taking', 'longer', 'than', 'expected', 'and', 'market', 'conditions', 'must', 'now', 'be', 're-evaluated', '``', 'The', 'circumstances', 'at', 'the', 'time', 'will', 'determine', 'what', 'we', 'do', \"''\", 'said', 'Arthur', 'Miller', 'BankAmerica', \"'s\", 'Vice', 'President', 'for', 'Financial', 'Communications', 'when', 'asked', 'if', 'BankAmerica', 'would', 'proceed', 'with', 'the', 'offer', 'immediately', 'after', 'it', 'receives', 'SEC', 'approval', '``', 'I', \"'d\", 'put', 'it', 'off', 'as', 'long', 'as', 'they', 'conceivably', 'could', \"''\", 'said', 'Lawrence', 'Cohn', 'analyst', 'with', 'Merrill', 'Lynch', 'Pierce', 'Fenner', 'and', 'Smith', 'Cohn', 'said', 'the', 'longer', 'BankAmerica', 'waits', 'the', 'longer', 'they', 'have', 'to', 'show', 'the', 'market', 'an', 'improved', 'financial', 'outlook', 'Although', 'BankAmerica', 'has', 'yet', 'to', 'specify', 'the', 'types', 'of', 'equities', 'it', 'would', 'offer', 'most', 'analysts', 'believed', 'a', 'convertible', 'preferred', 'stock', 'would', 'encompass', 'at', 'least', 'part', 'of', 'it', 'Such', 'an', 'offering', 'at', 'a', 'depressed', 'stock', 'price', 'would', 'mean', 'a', 'lower', 'conversion', 'price', 'and', 'more', 'dilution', 'to', 'BankAmerica', 'stock', 'holders', 'noted', 'Daniel', 'Williams', 'analyst', 'with', 'Sutro', 'Group', 'Several', 'analysts', 'said', 'that', 'while', 'they', 'believe', 'the', 'Brazilian', 'debt', 'problem', 'will', 'continue', 'to', 'hang', 'over', 'the', 'banking', 'industry', 'through', 'the', 'quarter', 'the', 'initial', 'shock', 'reaction', 'is', 'likely', 'to', 'ease', 'over', 'the', 'coming', 'weeks', 'Nevertheless', 'BankAmerica', 'which', 'holds', 'about', '2.70', 'billion', 'dlrs', 'in', 'Brazilian', 'loans', 'stands', 'to', 'lose', '15-20', 'mln', 'dlrs', 'if', 'the', 'interest', 'rate', 'is', 'reduced', 'on', 'the', 'debt', 'and', 'as', 'much', 'as', '200', 'mln', 'dlrs', 'if', 'Brazil', 'pays', 'no', 'interest', 'for', 'a', 'year', 'said', 'Joseph', 'Arsenio', 'analyst', 'with', 'Birr', 'Wilson', 'and', 'Co', 'He', 'noted', 'however', 'that', 'any', 'potential', 'losses', 'would', 'not', 'show', 'up', 'in', 'the', 'current', 'quarter', 'With', 'other', 'major', 'banks', 'standing', 'to', 'lose', 'even', 'more', 'than', 'BankAmerica', 'if', 'Brazil', 'fails', 'to', 'service', 'its', 'debt', 'the', 'analysts', 'said', 'they', 'expect', 'the', 'debt', 'will', 'be', 'restructured', 'similar', 'to', 'way', 'Mexico', \"'s\", 'debt', 'was', 'minimizing', 'losses', 'to', 'the', 'creditor', 'banks', 'Reuter']], ['17', ['NATIONAL', 'HEALTH', 'ENHANCEMENT', 'lt', 'NHES', 'NEW', 'PROGRAM', 'PHOENIX', 'Ariz.', 'Feb', '26', 'National', 'Health', 'Enhancement', 'Systems', 'Inc', 'said', 'it', 'is', 'offering', 'a', 'new', 'health', 'evaluation', 'system', 'to', 'its', 'line', 'of', 'fitness', 'assessment', 'programs', 'The', 'company', 'said', 'the', 'program', 'called', 'The', 'Health', 'Test', 'will', 'be', 'available', 'in', '60', 'days', 'Customers', 'who', 'use', 'the', 'program', 'will', 'receive', 'a', 'computer-generated', 'report', 'and', 'recommendations', 'for', 'implementing', 'a', 'program', 'to', 'improve', 'their', 'physical', 'condition', 'Reuter']], ['18', ['DEAN', 'FOODS', 'lt', 'DF', 'SEES', 'STRONG', '4TH', 'QTR', 'EARNINGS', 'CHICAGO', 'Feb', '26', 'Dean', 'Foods', 'Co', 'expects', 'earnings', 'for', 'the', 'fourth', 'quarter', 'ending', 'May', '30', 'to', 'exceed', 'those', 'of', 'the', 'same', 'year-ago', 'period', 'Chairman', 'Kenneth', 'Douglas', 'told', 'analysts', 'In', 'the', 'fiscal', '1986', 'fourth', 'quarter', 'the', 'food', 'processor', 'reported', 'earnings', 'of', '40', 'cts', 'a', 'share', 'Douglas', 'also', 'said', 'the', 'year', \"'s\", 'sales', 'should', 'exceed', '1.4', 'billion', 'dlrs', 'up', 'from', '1.27', 'billion', 'dlrs', 'the', 'prior', 'year', 'He', 'repeated', 'an', 'earlier', 'projection', 'that', 'third-quarter', 'earnings', 'will', 'probably', 'be', 'off', 'slightly', 'from', 'last', 'year', \"'s\", '40', 'cts', 'a', 'share', 'falling', 'in', 'the', 'range', 'of', '34', 'cts', 'to', '36', 'cts', 'a', 'share', 'Douglas', 'said', 'it', 'was', 'too', 'early', 'to', 'project', 'whether', 'the', 'anticipated', 'fourth', 'quarter', 'performance', 'would', 'be', 'enough', 'for', 'us', 'to', 'exceed', 'the', 'prior', 'year', \"'s\", 'overall', 'earnings', 'of', '1.53', 'dlrs', 'a', 'share', 'In', '1988', 'Douglas', 'said', 'Dean', 'should', 'experience', 'a', '20', 'pct', 'improvement', 'in', 'our', 'bottom', 'line', 'from', 'effects', 'of', 'the', 'tax', 'reform', 'act', 'alone', \"''\", 'President', 'Howard', 'Dean', 'said', 'in', 'fiscal', '1988', 'the', 'company', 'will', 'derive', 'benefits', 'of', 'various', 'dairy', 'and', 'frozen', 'vegetable', 'acquisitions', 'from', 'Ryan', 'Milk', 'to', 'the', 'Larsen', 'Co.', 'Dean', 'also', 'said', 'the', 'company', 'will', 'benefit', 'from', 'its', 'acquisition', 'in', 'late', 'December', 'of', 'Elgin', 'Blenders', 'Inc', 'West', 'Chicago', 'He', 'said', 'the', 'company', 'is', 'a', 'major', 'shareholder', 'of', 'E.B.I', 'Foods', 'Ltd', 'a', 'United', 'Kingdom', 'blender', 'and', 'has', 'licensing', 'arrangements', 'in', 'Australia', 'Canada', 'Brazil', 'and', 'Japan', '``', 'It', 'provides', 'ann', 'entry', 'to', 'McDonalds', 'Corp', 'lt', 'MCD', 'we', \"'ve\", 'been', 'after', 'for', 'years', \"''\", 'Douglas', 'told', 'analysts', 'Reuter']], ['19', ['BONUS', 'WHEAT', 'FLOUR', 'FOR', 'NORTH', 'YEMEN', 'USDA', 'WASHINGTON', 'Feb', '26', 'The', 'Commodity', 'Credit', 'Corporation', 'CCC', 'has', 'accepted', 'an', 'export', 'bonus', 'offer', 'to', 'cover', 'the', 'sale', 'of', '37,000', 'long', 'tons', 'of', 'wheat', 'flour', 'to', 'North', 'Yemen', 'the', 'U.S.', 'Agriculture', 'Department', 'said', 'The', 'wheat', 'four', 'is', 'for', 'shipment', 'March-May', 'and', 'the', 'bonus', 'awarded', 'was', '119.05', 'dlrs', 'per', 'tonnes', 'and', 'will', 'be', 'paid', 'in', 'the', 'form', 'of', 'commodities', 'from', 'the', 'CCC', 'inventory', 'The', 'bonus', 'was', 'awarded', 'to', 'the', 'Pillsbury', 'Company', 'The', 'wheat', 'flour', 'purchases', 'complete', 'the', 'Export', 'Enhancement', 'Program', 'initiative', 'announced', 'in', 'April', '1986', 'it', 'said', 'Reuter']], ['20', ['CREDIT', 'CARD', 'DISCLOSURE', 'BILLS', 'INTRODUCED', 'WASHINGTON', 'Feb', '26', 'Legislation', 'to', 'require', 'disclosure', 'of', 'credit', 'card', 'fees', 'and', 'interest', 'rates', 'before', 'the', 'cards', 'are', 'issued', 'have', 'been', 'introduced', 'in', 'the', 'Senate', 'and', 'House', 'Sen.', 'Chris', 'Dodd', 'D-Conn', 'a', 'co-sponsor', 'of', 'the', 'bill', 'said', 'many', 'banks', 'and', 'financial', 'institutions', 'do', 'not', 'disclose', 'all', 'the', 'information', 'about', 'terms', 'of', 'their', 'cards', 'in', 'promotional', 'material', 'sent', 'to', 'prospective', 'customers', '``', 'By', 'requiring', 'card', 'issuers', 'to', 'disclose', 'the', 'terms', 'and', 'conditions', 'of', 'their', 'cards', 'at', 'the', 'time', 'of', 'solicitation', 'the', 'legislation', 'is', 'intended', 'to', 'arm', 'consumers', 'with', 'enough', 'information', 'to', 'shop', 'around', 'for', 'the', 'best', 'deal', \"''\", 'Dodd', 'said', 'in', 'a', 'statement', 'Reuter']], ['21', ['HUGHES', 'CAPITAL', 'UNIT', 'SIGNS', 'PACT', 'WITH', 'BEAR', 'STEARNS', 'FORT', 'LAUDERDALE', 'Fla.', 'Feb', '26', 'Hughes/Conserdyne', 'Corp', 'a', 'unit', 'of', 'lt', 'Hughes', 'Capital', 'Corp', 'said', 'it', 'made', 'Bear', 'Stearns', 'and', 'Co', 'Inc', 'lt', 'BSC', 'its', 'exclusive', 'investment', 'banker', 'to', 'develop', 'and', 'market', 'financing', 'for', 'the', 'design', 'and', 'installation', 'of', 'its', 'micro-utility', 'systems', 'for', 'municipalities', 'The', 'company', 'said', 'these', 'systems', 'are', 'self-contained', 'electrical', 'generating', 'facilities', 'using', 'alternate', 'power', 'sources', 'such', 'as', 'photovoltaic', 'cells', 'to', 'replace', 'public', 'utility', 'power', 'sources', 'Reuter']], ['22', ['MAGMA', 'LOWERS', 'COPPER', '0.75', 'CENT', 'TO', '66', 'CTS', 'NEW', 'YORK', 'Feb', '26', 'Magma', 'Copper', 'Co', 'a', 'subsidiary', 'of', 'Newmont', 'Mining', 'Corp', 'said', 'it', 'is', 'cutting', 'its', 'copper', 'cathode', 'price', 'by', '0.75', 'cent', 'to', '66', 'cents', 'a', 'lb', 'effective', 'immediately', 'Reuter']], ['23', ['BROWN-FORMAN', 'lt', 'BFDB', 'SETS', 'STOCK', 'SPLIT', 'UPS', 'PAYOUT', 'LOUISVILLE', 'Ky.', 'Feb', '26', 'Brown-Forman', 'Inc', 'said', 'its', 'board', 'has', 'approved', 'a', 'three-for-two', 'stock', 'split', 'and', 'a', '35', 'pct', 'increase', 'in', 'the', 'company', 'cash', 'dividend', 'The', 'company', 'cited', 'its', 'improved', 'earnings', 'outlook', 'and', 'continued', 'strong', 'cash', 'flow', 'as', 'reasons', 'for', 'raising', 'the', 'dividend', 'Brown-Forman', 'said', 'the', 'split', 'of', 'its', 'Class', 'A', 'and', 'Class', 'B', 'common', 'shares', 'would', 'be', 'effective', 'March', '13', 'The', 'company', 'said', 'directors', 'declared', 'a', 'quarterly', 'cash', 'dividend', 'on', 'each', 'new', 'share', 'of', 'both', 'classes', 'of', '28', 'cts', 'payable', 'April', 'one', 'to', 'holders', 'of', 'record', 'March', '20', 'Prior', 'to', 'the', 'split', 'the', 'company', 'had', 'paid', '31', 'cts', 'quarterly', 'Brown-Forman', 'today', 'reported', 'a', '37', 'pct', 'increase', 'in', 'third', 'quarter', 'profits', 'to', '21.6', 'mln', 'dlrs', 'or', '1.00', 'dlr', 'a', 'share', 'on', 'a', 'seven', 'pct', 'increase', 'in', 'sales', 'to', 'a', 'record', '337', 'mln', 'dlrs', 'Brown-Forman', 'said', 'nine', 'month', 'profits', 'declined', 'a', 'bit', 'to', '66.0', 'mln', 'dlrs', 'or', '3.07', 'dlrs', 'a', 'share', 'from', '66.2', 'mln', 'dlrs', 'or', '3.08', 'dlrs', 'a', 'share', 'a', 'year', 'earlier', 'due', 'to', 'a', 'second', 'quarter', 'charge', 'of', '37', 'cts', 'a', 'share', 'for', 'restructuring', 'its', 'beverage', 'operations', 'The', 'company', 'said', 'lower', 'corporate', 'tax', 'rates', 'and', 'the', 'restructuring', 'are', 'expected', 'to', 'substantially', 'improve', 'Brown-Forman', \"'s\", 'earnings', 'and', 'cash', 'flow', 'in', 'fiscal', '1988', \"''\", 'Reuter']], ['24', ['ESQUIRE', 'RADIO', 'AND', 'ELECTRONICS', 'INC', 'lt', 'EE', '4TH', 'QTR', 'NEW', 'YORK', 'Feb', '26', 'Shr', 'profit', '15', 'cts', 'vs', 'profit', 'four', 'cts', 'Annual', 'div', '72', 'cts', 'vs', '72', 'cts', 'prior', 'yr', 'Net', 'profit', '72,000', 'vs', 'profit', '16,000', 'Revs', '7,075,000', 'vs', '2,330,000', '12', 'mths', 'Shr', 'profit', '42', 'cts', 'vs', 'loss', '11', 'cts', 'Net', 'profit', '203,000', 'vs', 'loss', '55,000', 'Revs', '16.1', 'mln', 'vs', '3,971,000', 'NOTE', 'annual', 'dividend', 'payable', 'April', '10', '1987', 'to', 'stockholders', 'of', 'record', 'on', 'March', '27', '1987', 'Reuter']], ['25', ['SHEARSON', 'LEHMAN', 'NAMES', 'NEW', 'MANAGING', 'DIRECTOR', 'NEW', 'YORK', 'Feb', '26', 'Shearson', 'Lehman', 'Brothers', 'a', 'unit', 'of', 'American', 'Express', 'Co', 'lt', 'AXP', 'said', 'Robert', 'Stearns', 'has', 'joined', 'the', 'company', 'as', 'managing', 'director', 'of', 'its', 'merger', 'and', 'acquisition', 'department', 'Shearson', 'said', 'Stearns', 'formerly', 'was', 'part', 'of', 'Merrill', 'Lynch', 'Pierce', ',', 'Fenner', 'and', 'Smith', 'Inc', \"'s\", 'lt', 'MER', 'merger', 'and', 'acquisitions', 'department', 'Reuter']], ['26', ['BANKERS', 'REPORT', 'BREAKTHROUGH', 'ON', 'VENEZUELAN', 'DEBT', 'NEW', 'YORK', 'Feb', '26', 'Venezuela', 'and', 'its', 'bank', 'advisory', 'committee', 'have', 'agreed', 'in', 'principle', 'on', 'revisions', 'to', 'the', 'terms', 'of', 'a', '21', 'billion', 'dlr', 'debt-rescheduling', 'package', 'signed', 'last', 'February', 'bankers', 'said', 'They', 'declined', 'to', 'disclose', 'details', 'because', 'two', 'or', 'three', 'representatives', 'on', 'the', 'panel', 'have', 'still', 'to', 'obtain', 'the', 'approval', 'of', 'their', 'senior', 'management', 'for', 'the', 'new', 'terms', 'The', 'committee', 'was', 'meeting', 'in', 'New', 'York', 'this', 'afternoon', 'and', 'could', 'put', 'its', 'final', 'stamp', 'of', 'approval', 'of', 'the', 'deal', 'later', 'today', 'the', 'bankers', 'said', '``', 'A', 'number', 'of', 'details', 'have', 'still', 'to', 'be', 'finalized', 'but', 'the', 'broad', 'details', 'of', 'the', 'new', 'amortization', 'schedules', 'and', 'interest', 'rates', 'are', 'in', 'place', \"''\", 'one', 'senior', 'banker', 'said', 'The', 'interest', 'rate', 'on', 'the', 'rescheduling', 'was', 'originally', 'set', 'at', '1-1/8', 'pct', 'over', 'Eurodollar', 'rates', 'but', 'Venezuela', 'requested', 'easier', 'terms', 'because', 'of', 'a', '40', 'pct', 'drop', 'in', 'oil', 'income', 'last', 'year', 'It', 'also', 'asked', 'for', 'a', 'reduction', 'in', 'the', 'repayments', 'it', 'was', 'due', 'to', 'make', 'in', '1987', '1988', 'and', '1989', 'after', 'an', 'earlier', 'request', 'that', 'it', 'make', 'no', 'amortizations', 'at', 'all', 'in', 'those', 'years', 'was', 'rebuffed', 'and', 'sought', 'a', 'commitment', 'from', 'the', 'banks', 'to', 'finance', 'new', 'investment', 'in', 'Venezuela', 'The', 'breakthrough', 'in', 'the', 'Venezuelan', 'talks', 'which', 'have', 'been', 'going', 'on', 'intermittently', 'for', 'several', 'months', 'follows', 'the', 'announcement', 'earlier', 'today', 'of', 'a', '10.6', 'billion', 'dlr', 'debt', 'rescheduling', 'pact', 'between', 'Chile', 'and', 'its', 'bank', 'advisory', 'panel', 'And', 'last', 'night', 'Citibank', 'said', 'Mexico', \"'s\", 'financing', 'package', 'including', 'a', '7.7', 'billion', 'dlr', 'loan', 'will', 'be', 'signed', 'on', 'March', '20', 'While', 'the', 'sudden', 'progress', 'is', 'to', 'some', 'extent', 'coincidental', 'bankers', 'acknowledge', 'a', 'desire', 'to', 'chalk', 'up', 'some', 'quick', 'successes', 'after', 'the', 'shock', 'of', 'Brazil', \"'s\", 'unilateral', 'interest', 'suspension', 'last', 'Friday', 'By', 'striking', 'swift', 'deals', 'banks', 'hope', 'to', 'reduce', 'the', 'incentive', 'for', 'other', 'debtors', 'to', 'emulate', 'Brazil', 'Reuter']], ['27', ['UNITED', 'PRESIDENTIAL', 'CORP', 'lt', 'UPCO', '4TH', 'QTR', 'NET', 'KOKOMO', 'Ind.', 'Feb', '26', 'Shr', '39', 'cts', 'vs', '50', 'cts', 'Net', '1,545,160', 'vs', '2,188,933', 'Revs', '25.2', 'mln', 'vs', '19.5', 'mln', 'Year', 'Shr', '1.53', 'dlrs', 'vs', '1.21', 'dlrs', 'Net', '6,635,318', 'vs', '5,050,044', 'Revs', '92.2', 'mln', 'vs', '77.4', 'mln', 'NOTE', 'Results', 'include', 'adjustment', 'of', '848,600', 'dlrs', 'or', '20', 'cts', 'shr', 'for', '1986', 'year', 'and', 'both', '1985', 'periods', 'from', 'improvement', 'in', 'results', 'of', 'its', 'universal', 'life', 'business', 'than', 'first', 'estimated', 'Reuter']], ['28', ['TOWER', 'REPORT', 'DIMINISHES', 'REAGAN', \"'S\", 'HOPES', 'OF', 'REBOUND', 'By', 'Michael', 'Gelb', 'Reuters', 'WASHINGTON', 'Feb', '26', 'The', 'Tower', 'Commission', 'report', 'which', 'says', 'President', 'Reagan', 'was', 'ignorant', 'about', 'much', 'of', 'the', 'Iran', 'arms', 'deal', 'just', 'about', 'ends', 'his', 'prospects', 'of', 'regaining', 'political', 'dominance', 'in', 'Washington', 'political', 'analysts', 'said', 'This', 'is', 'certification', 'of', 'incompetence', 'private', 'political', 'analyst', 'Stephen', 'Hess', 'told', 'Reuters', 'in', 'commenting', 'on', 'the', 'Tower', 'report', 'made', 'public', 'today', 'It', \"'s\", 'as', 'if', 'he', 'went', 'before', 'a', 'professional', 'licensing', 'board', 'and', 'was', 'denied', 'credentials', \"''\", 'In', 'one', 'of', 'the', 'most', 'direct', 'criticisms', 'board', 'chairman', 'John', 'Tower', 'a', 'longtime', 'Reagan', 'supporter', 'and', 'former', 'Republican', 'senator', 'from', 'Texas', 'told', 'a', 'press', 'conference', '``', 'The', 'president', 'clearly', 'did', 'not', 'understand', 'the', 'nature', 'of', 'this', 'operation', \"''\", 'The', 'report', 'which', 'lent', 'credence', 'to', 'widespread', 'opinion', 'in', 'Washington', 'that', 'Reagan', 'is', 'not', 'in', 'full', 'command', 'of', 'the', 'government', 'was', 'particularly', 'damaging', 'because', 'it', 'was', 'prepared', 'by', 'a', 'board', 'of', 'the', 'Republican', 'president', \"'s\", 'own', 'choosing', 'The', 'three-member', 'panel', 'made', 'up', 'of', 'Tower', 'former', 'National', 'Security', 'Adviser', 'Brent', 'Scowcroft', 'and', 'former', 'Secretary', 'of', 'State', 'Edmund', 'Muskie', 'does', 'not', 'carry', 'the', 'partisan', 'taint', 'of', 'criticism', 'from', 'a', 'Congress', 'controlled', 'by', 'the', 'Democratic', 'party', '``', 'We', \"'re\", 'falling', 'by', 'our', 'own', 'hand', \"''\", 'said', 'one', 'Republican', 'political', 'strategist', '``', 'What', 'can', 'we', 'say', 'except', \"'we\", \"'re\", 'sorry', 'we', 'wo', \"n't\", 'do', 'it', 'again', \"'\", \"''\", 'The', 'strategist', 'who', 'works', 'for', 'one', 'of', 'his', 'party', \"'s\", 'top', '1988', 'presidential', 'contenders', 'and', 'asked', 'not', 'to', 'be', 'identified', 'said', 'the', 'report', 'was', 'like', '``', 'an', 'anvil', 'falling', 'on', 'us', \"''\", 'Hess', 'with', 'the', 'Brookings', 'Institution', 'public', 'policy', 'study', 'group', 'said', 'the', 'report', 'is', 'the', 'final', 'blow', 'to', 'Reagan', \"'s\", 'hopes', 'of', 'regaining', 'the', 'upper', 'hand', 'he', 'once', 'had', 'in', 'dealings', 'with', 'Congress', 'the', 'press', 'and', 'the', 'Washington', 'bureaucracy', 'The', 'report', 'may', 'also', 'undermine', 'the', 'standing', 'of', 'Defense', 'Secretary', 'Caspar', 'Weinberger', 'and', 'Secretary', 'of', 'State', 'George', 'Shultz', 'who', 'the', 'report', 'suggests', 'were', 'more', 'interested', 'in', 'keeping', 'their', 'own', 'skirts', 'clean', 'than', 'supporting', 'the', 'president', '``', 'They', 'protected', 'the', 'record', 'as', 'to', 'their', 'own', 'positions', 'on', 'this', 'issue', 'They', 'were', 'not', 'energetic', 'in', 'attempting', 'to', 'protect', 'the', 'president', 'from', 'the', 'consequences', \"''\", 'it', 'said', 'White', 'House', 'chief', 'of', 'staff', 'Donald', 'Regan', 'and', 'former', 'Central', 'Intelligence', 'Agency', 'Director', 'William', 'Casey', 'also', 'received', 'strong', 'criticism', 'but', 'the', 'blows', 'were', 'expected', 'in', 'their', 'cases', 'Regan', 'expected', 'to', 'resign', 'or', 'be', 'fired', 'shortly', 'was', 'savaged', 'for', 'allegedly', 'failing', 'both', 'to', 'help', 'Reagan', 'conduct', 'the', 'Iran', 'initiative', 'and', 'to', 'avoid', '``', 'chaos', \"''\", 'in', 'the', 'disclosure', 'process', 'Casey', 'who', 'underwent', 'surgery', 'for', 'removal', 'of', 'a', 'cancerous', 'brain', 'tumor', 'in', 'December', 'had', 'already', 'resigned', 'for', 'health', 'reasons', 'last', 'month', '``', 'This', 'is', 'a', 'story', 'about', 'people', 'who', 'came', 'up', 'somewhat', 'short', 'of', 'being', 'heroes', \"''\", 'Tower', 'told', 'reporters', 'While', 'Reagan', 'retains', 'considerable', 'constitutional', 'powers', 'including', 'command', 'of', 'the', 'armed', 'forces', 'and', 'the', 'right', 'to', 'veto', 'legislation', 'analysts', 'say', 'it', 'will', 'be', 'difficult', 'for', 'him', 'to', 'retake', 'control', 'of', 'the', 'country', \"'s\", 'policy', 'agenda', 'particularly', 'with', 'Congress', 'controlled', 'by', 'the', 'Democrats', 'The', 'crucial', 'remaining', 'question', 'they', 'said', 'is', 'whether', 'the', 'man', 'in', 'the', 'street', 'will', 'forsake', 'Reagan', 'over', 'the', 'affair', 'Although', 'his', 'job', 'approval', 'rating', 'has', 'fallen', 'as', 'much', 'as', 'twenty', 'percentage', 'points', 'in', 'some', 'opinion', 'polls', 'since', 'the', 'arms', 'deal', 'with', 'Iran', 'became', 'public', 'last', 'November', 'his', 'personal', 'popularity', 'is', 'still', 'relatively', 'high', 'A', 'Los', 'Angeles', 'Times', 'poll', 'released', 'earlier', 'this', 'week', 'showed', 'that', 'just', '37', 'pct', 'of', 'those', 'surveyed', 'thought', 'Reagan', 'was', 'in', 'control', 'of', 'the', 'government', 'but', '55', 'pct', 'still', 'thought', 'he', 'was', 'doing', 'a', 'good', 'job', 'as', 'president', 'American', 'Enterprise', 'Institute', 'analyst', 'William', 'Schneider', 'a', 'Democrat', 'says', 'Reagan', \"'s\", 'loss', 'of', 'support', 'among', 'Washington', 'power', 'brokers', 'could', 'be', 'offset', 'by', 'continued', 'backing', 'of', 'the', 'public', '``', 'In', 'the', 'past', 'he', 'has', 'been', 'able', 'to', 'go', 'around', 'the', 'power', 'elite', 'by', 'appealing', 'directly', 'to', 'the', 'public', \"''\", 'Schneider', 'said', 'Reagan', 'will', 'again', 'plead', 'his', 'case', 'that', 'way', 'in', 'a', 'televised', 'address', 'next', 'week', 'But', 'one', 'top', 'Republican', 'strategist', 'warned', 'against', 'expecting', 'a', 'dramatic', 'turnaround', '``', 'The', 'White', 'House', 'has', 'to', 'avoid', 'building', 'expectations', 'that', 'can', 'not', 'be', 'met', \"''\", 'said', 'the', 'strategist', 'who', 'requested', 'anonymity', '``', 'They', 'have', 'to', 'recognize', 'there', 'is', 'no', 'quick', 'fix', \"''\", 'Analysts', 'also', 'point', 'out', 'that', 'Reagan', \"'s\", 'personal', 'popularity', 'has', 'not', 'always', 'translated', 'into', 'public', 'backing', 'for', 'his', 'policies', 'They', 'note', 'he', 'was', 'dramatically', 'rebuffed', 'in', 'last', \"November's\", 'elections', 'when', 'voters', 'rejected', 'his', 'appeals', 'and', 'restored', 'control', 'of', 'the', 'Senate', 'to', 'the', 'Democrats', 'Reuter']], ['29', ['JANUARY', 'HOUSING', 'SALES', 'DROP', 'REALTY', 'GROUP', 'SAYS', 'WASHINGTON', 'Feb', '26', 'Sales', 'of', 'previously', 'owned', 'homes', 'dropped', '14.5', 'pct', 'in', 'January', 'to', 'a', 'seasonally', 'adjusted', 'annual', 'rate', 'of', '3.47', 'mln', 'units', 'the', 'National', 'Association', 'of', 'Realtors', 'NAR', 'said', 'But', 'the', 'December', 'rate', 'of', '4.06', 'mln', 'units', 'had', 'been', 'the', 'highest', 'since', 'the', 'record', '4.15', 'mln', 'unit', 'sales', 'rate', 'set', 'in', 'November', '1978', 'the', 'group', 'said', '``', 'The', 'drop', 'in', 'January', 'is', 'not', 'surprising', 'considering', 'that', 'a', 'significant', 'portion', 'of', 'December', \"'s\", 'near-record', 'pace', 'was', 'made', 'up', 'of', 'sellers', 'seeking', 'to', 'get', 'favorable', 'capital', 'gains', 'treatment', 'under', 'the', 'old', 'tax', 'laws', \"''\", 'said', 'the', 'NAR', \"'s\", 'John', 'Tuccillo', 'Reuter']], ['30', ['*', '*', '*', 'ASSETS', 'OF', 'MONEY', 'MARKET', 'MUTUAL', 'FUNDS', 'ROSE', '720.4', 'MLN', 'DLRS', 'IN', 'LATEST', 'WEEK', 'Blah', 'blah', 'blah']], ['31', ['*', '*', '*', 'U.S.', 'TAX', 'WRITERS', 'SEEK', 'ESTATE', 'TAX', 'CURBS', 'RAISING', '6.7', 'BILLION', 'DLRS', 'THRU', '1991', 'Blah', 'blah', 'blah']], ['32', ['SENATORS', 'INTRODUCE', 'EXPORT', 'LICENSING', 'REFORM', 'BILL', 'WASHINGTON', 'Feb', '26', 'Sens', 'Alan', 'Cranston', 'D-Cal', 'and', 'Daniel', 'Evans', 'R-Wash.', ')', 'said', 'they', 'introduced', 'export', 'licensing', 'reform', 'legislation', 'that', 'could', 'save', 'U.S.', 'companies', 'hundreds', 'of', 'thousands', 'of', 'dollars', 'annually', '``', 'Our', 'emphasis', 'is', 'two-fold', 'Decontrol', 'and', 'de-license', 'items', 'where', 'such', 'actions', 'will', 'not', 'endanger', 'our', 'national', 'security', 'and', 'eliminate', 'the', 'Department', 'of', 'Defense', \"'s\", 'de', 'facto', 'veto', 'authority', 'over', 'the', 'licensing', 'process', \"''\", 'Cranston', 'said', '``', 'Our', 'reforms', 'should', 'reduce', 'licensing', 'requirements', 'by', '65', 'to', '70', 'pct', \"''\", 'he', 'told', 'reporters', '``', 'I', 'am', 'convinced', 'that', 'a', 'more', 'rational', 'licensing', 'process', 'will', 'boost', 'exports', \"''\", 'U.S.', 'export', 'controls', 'are', 'intended', 'to', 'deny', 'Eastern', 'bloc', 'countries', 'access', 'to', 'technology', 'that', 'could', 'further', 'their', 'military', 'capabilities', '``', 'By', 'refocusing', 'our', 'control', 'resources', 'on', 'higher', 'levels', 'of', 'technology', 'technology', 'that', 'is', 'truly', 'critical', 'we', 'will', 'do', 'a', 'better', 'job', 'of', 'preventing', 'diversion', 'of', 'critical', 'technology', 'to', 'our', 'adversaries', 'while', 'promoting', 'more', 'exports', \"''\", 'Cranston', 'said', '``', 'We', 'can', 'not', 'expect', 'to', 'continue', 'to', 'play', 'a', 'leading', 'role', 'in', 'new', 'technology', 'development', 'in', 'the', 'future', 'if', 'we', 'unduly', 'restrict', 'the', 'activities', 'of', 'U.S.', 'firms', 'in', 'the', 'world', 'market-place', \"''\", 'Evans', 'told', 'reporters', 'Reuter']], ['33', ['EXCELAN', 'INC', 'SETS', 'INITIAL', 'STOCK', 'OFFER', 'SAN', 'JOSE', 'Calif.', 'Feb', '26', 'Excelan', 'Inc', 'said', 'it', 'is', 'making', 'an', 'initial', 'public', 'offering', 'of', '2,129,300', 'shares', 'of', 'common', 'stock', 'at', '12', 'dlrs', 'per', 'share', 'Excelan', 'said', '1.6', 'mln', 'of', 'the', 'shares', 'are', 'being', 'sold', 'by', 'the', 'company', 'and', '529,300', 'shares', 'are', 'being', 'sold', 'by', 'stockholders', 'Excelan', 'designs', 'and', 'manufactures', 'computer-related', 'products', 'Reuter']], ['34', ['CCX', 'NETWORK', 'lt', 'CCXN', 'SECONDARY', 'OFFERING', 'UNDERWAY', 'CONWAY', 'Ark.', 'Feb', '26', 'CCX', 'Network', 'Inc', 'said', 'it', 'was', 'offering', '220,838', 'shares', 'of', 'stock', 'at', '15.75', 'dlrs', 'a', 'share', 'though', 'underwriters', 'Stephens', 'Inc', 'and', 'Cazenove', 'Inc', 'The', 'company', 'said', 'it', 'was', 'selling', 'the', 'stock', 'on', 'behalf', 'of', 'some', 'shareholders', 'including', 'those', 'who', 'recently', 'received', 'shares', 'in', 'the', 'company', 'in', 'exchange', 'for', 'their', 'businesses', 'The', 'company', 'said', 'it', 'was', 'receiving', 'no', 'proceeds', 'from', 'the', 'offering', 'Reuter']], ['35', ['FIRST', 'UNION', 'lt', 'FUNC', 'FILES', '100', 'MLN', 'DLR', 'NOTES', 'ISSUE', 'NEW', 'YORK', 'Feb', '26', 'First', 'Union', 'Corp', 'said', 'it', 'has', 'filed', 'with', 'the', 'Securities', 'and', 'Exchange', 'Commission', 'for', 'a', 'proposed', 'offering', 'of', '100', 'mln', 'dlrs', 'of', 'fixed', 'rate', 'subordinated', 'notes', 'due', '1997', 'The', 'notes', 'will', 'be', 'sold', 'nationwide', 'through', 'underwriters', 'managed', 'by', 'Shearson', 'Lehman', 'Brothers', 'Inc.', 'Reuter']], ['36', ['OWENS', 'AND', 'MINOR', 'INC', 'lt', 'OBOD', 'RAISES', 'QTLY', 'DIVIDEND', 'RICHMOND', 'Va.', 'Feb', '26', 'Qtly', 'div', 'eights', 'cts', 'vs', '7.5', 'cts', 'prior', 'Pay', 'March', '31', 'Record', 'March', '13', 'Reuter']], ['37', ['COMPUTER', 'LANGUAGE', 'RESEARCH', 'IN', 'lt', 'CLRI', '4TH', 'QTR', 'CARROLLTON', 'Texas', 'Feb', '26', 'Shr', 'loss', '22', 'cts', 'vs', 'loss', '18', 'cts', 'Net', 'loss', '3,035,000', 'vs', 'loss', '2,516,000', 'Revs', '20.9', 'mln', 'vs', '19.6', 'mln', 'Qtly', 'div', 'three', 'cts', 'vs', 'three', 'cts', 'prior', 'Year', 'Shr', 'profit', 'two', 'cts', 'vs', 'profit', '34', 'cts', 'Net', 'profit', '215,000', 'vs', 'profit', '4,647,000', 'Revs', '93.4', 'mln', 'vs', '98.7', 'mln', 'NOTE', 'Dividend', 'payable', 'April', 'one', 'to', 'shareholders', 'of', 'record', 'March', '17', 'Reuter']], ['38', ['lt', 'CINRAM', 'LTD', '4TH', 'QTR', 'NET', 'Scarborough', 'Ontario', 'Feb', '26', 'Shr', '45', 'cts', 'vs', '58', 'cts', 'Net', '1.1', 'mln', 'vs', '829,000', 'Sales', '7.9', 'mln', 'vs', '9.4', 'mln', 'Avg', 'shrs', '2,332,397', 'vs', '1,428,000', 'Year', 'Shr', '1.22', 'dlrs', 'vs', '1.06', 'dlrs', 'Net', '2.9', 'mln', 'vs', '1.5', 'mln', 'Sales', '25.7', 'mln', 'vs', '22.2', 'mln', 'Avg', 'shrs', '2,332,397', 'vs', '1,428,000', 'Reuter']], ['39', ['DU', 'PONT', 'CO', 'lt', 'DD', 'LAUNCHES', 'IMPROVED', 'ARAMID', 'FIBERS', 'WILMINGTON', 'Del.', 'Feb', '26', 'The', 'Du', 'Pont', 'Co', 'said', 'it', 'has', 'devloped', 'a', 'new', 'generation', 'of', 'high-strength', 'aramid', 'fibers', 'which', 'is', 'stiffer', 'and', 'less', 'absorbant', 'than', 'previous', 'generations', 'Du', 'Pont', 'said', 'the', 'new', 'product', 'Kevlar', '149', 'is', 'up', 'to', '40', 'pct', 'stiffer', 'than', 'first', 'generation', 'aramids', 'and', 'absorbs', 'less', 'than', 'half', 'the', 'moister', 'of', 'other', 'similar', 'aramid', 'fibers', 'Kevlar', 'was', 'invented', 'by', 'Du', 'Pont', 'in', 'the', 'late', '1960s', 'and', 'is', 'five', 'times', 'stronger', 'than', 'steel', 'and', '10', 'times', 'stronger', 'than', 'aluminum', 'on', 'an', 'equal', 'wieght', 'basis', 'and', 'is', 'used', 'to', 'replace', 'metals', 'in', 'a', 'variety', 'of', 'products', 'according', 'to', 'the', 'company', 'Reuter']], ['40', ['STANDARD', 'TRUSTCO', 'SEES', 'BETTER', 'YEAR', 'Toronto', 'Feb', '26', 'Standard', 'Trustco', 'said', 'it', 'expects', 'earnings', 'in', '1987', 'to', 'increase', 'at', 'least', '15', 'to', '20', 'pct', 'from', 'the', '9,140,000', 'dlrs', 'or', '2.52', 'dlrs', 'per', 'share', 'recorded', 'in', '1986', '``', 'Stable', 'interest', 'rates', 'and', 'a', 'growing', 'economy', 'are', 'expected', 'to', 'provide', 'favorable', 'conditions', 'for', 'further', 'growth', 'in', '1987', \"''\", 'president', 'Brian', \"O'Malley\", 'told', 'shareholders', 'at', 'the', 'annual', 'meeting', 'Standard', 'Trustco', 'previously', 'reported', 'assets', 'of', '1.28', 'billion', 'dlrs', 'in', '1986', 'up', 'from', '1.10', 'billion', 'dlrs', 'in', '1985', 'Return', 'on', 'common', 'shareholders', \"'\", 'equity', 'was', '18.6', 'pct', 'last', 'year', 'up', 'from', '15', 'pct', 'in', '1985', 'Reuter']], ['41', ['HANDY', 'AND', 'HARMAN', 'lt', 'HNH', '4TH', 'QTR', 'LOSS', 'NEW', 'YORK', 'Feb', '26', 'Shr', 'loss', '51', 'cts', 'vs', 'loss', 'three', 'cts', 'Net', 'loss', '7,041,000', 'vs', 'loss', '467,000', 'Rev', '138.9', 'mln', 'vs', '131.4', 'mln', '12', 'months', 'Shr', 'loss', '64', 'cts', 'vs', 'profit', '46', 'cts', 'Net', 'loss', '8,843,000', 'vs', 'profit', '6,306,0000', 'Rev', '558.9', 'mln', 'vs', '556.7', 'mln', 'NOTE', 'Net', 'loss', 'for', '4th', 'qtr', '1986', 'includes', 'charge', 'for', 'restructuring', 'of', '2.6', 'mln', 'dlrs', 'after', 'tax', 'or', '19', 'cts', 'a', 'share', '1986', 'net', 'loss', 'includes', 'after', 'tax', 'special', 'charge', 'of', '2.7', 'mln', 'dlrs', 'or', '20', 'cts', 'a', 'share', 'Reuter']], ['42', ['ICO', 'PRODUCERS', 'TO', 'PRESENT', 'NEW', 'COFFEE', 'PROPOSAL', 'LONDON', 'Feb', '26', 'International', 'Coffee', 'Organization', 'ICO', 'producing', 'countries', 'will', 'present', 'a', 'proposal', 'for', 'reintroducing', 'export', 'quotas', 'for', '12', 'months', 'from', 'April', '1', 'with', 'a', 'firm', 'undertaking', 'to', 'try', 'to', 'negotiate', 'up', 'to', 'September', '30', 'any', 'future', 'quota', 'distribution', 'on', 'a', 'new', 'basis', 'ICO', 'delegates', 'said', 'Distribution', 'from', 'April', '1', 'would', 'be', 'on', 'an', 'unchanged', 'basis', 'as', 'in', 'an', 'earlier', 'producer', 'proposal', 'which', 'includes', 'shortfall', 'redistributions', 'totalling', '1.22', 'mln', 'bags', 'they', 'said', 'Resumption', 'of', 'an', 'ICO', 'contact', 'group', 'meeting', 'with', 'consumers', 'scheduled', 'for', 'this', 'evening', 'has', 'been', 'postponed', 'until', 'tomorrow', 'delegates', 'said', 'Reuter']], ['43', ['SHULTZ', 'SAYS', 'NO', 'RESIGNATION', 'OVER', 'IRAN', 'REPORT', 'ANCHORAGE', 'Alaska', 'Feb', '26', 'Secretary', 'of', 'State', 'George', 'Shultz', 'acknowledged', 'failings', 'in', 'the', 'Iran', 'arms', 'affair', 'but', 'declared', 'he', 'would', 'not', 'resign', 'His', 'role', 'in', 'the', 'scandal', 'that', 'has', 'scarred', 'the', 'Reagan', 'administration', 'attracted', 'harsh', 'criticism', 'from', 'the', 'Tower', 'commission', 'in', 'its', 'report', 'on', 'the', 'affair', 'published', 'today', 'Shultz', 'travelling', 'to', 'China', 'for', 'a', 'week-long', 'visit', 'refused', 'to', 'comment', 'directly', 'on', 'the', 'report', 'published', 'after', 'he', 'had', 'left', 'Washington', 'But', 'he', 'repeated', 'as', 'he', 'has', 'done', 'since', 'the', 'crisis', 'broke', 'last', 'November', 'that', 'he', 'was', 'not', 'going', 'to', 'resign', '``', 'You', 'can', 'wipe', 'that', 'off', 'your', 'slate', \"''\", 'he', 'said', 'Reuter']], ['44', ['MCLEAN', \"'S\", 'lt', 'MII', 'U.S.', 'LINES', 'SETS', 'ASSET', 'TRANSFER', 'CRANFORD', 'N.J.', 'Feb', '26', 'McLean', 'Industries', 'Inc', \"'s\", 'United', 'States', 'Lines', 'Inc', 'subsidiary', 'said', 'it', 'has', 'agreed', 'in', 'principle', 'to', 'transfer', 'its', 'South', 'American', 'service', 'by', 'arranging', 'for', 'the', 'transfer', 'of', 'certain', 'charters', 'and', 'assets', 'to', 'lt', 'Crowley', 'Mariotime', 'Corp', \"'s\", 'American', 'Transport', 'Lines', 'Inc', 'subsidiary', 'U.S.', 'Lines', 'said', 'negotiations', 'on', 'the', 'contract', 'are', 'expected', 'to', 'be', 'completed', 'within', 'the', 'next', 'week', 'Terms', 'and', 'conditions', 'of', 'the', 'contract', 'would', 'be', 'subject', 'to', 'approval', 'of', 'various', 'regulatory', 'bodies', 'including', 'the', 'U.S.', 'Bankruptcy', 'Court', 'Reuter']], ['45', ['CHEMLAWN', 'lt', 'CHEM', 'RISES', 'ON', 'HOPES', 'FOR', 'HIGHER', 'BIDS', 'By', 'Cal', 'Mankowski', 'Reuters', 'NEW', 'YORK', 'Feb', '26', 'ChemLawn', 'Corp', 'lt', 'CHEM', 'could', 'attract', 'a', 'higher', 'bid', 'than', 'the', '27', 'dlrs', 'per', 'share', 'offered', 'by', 'Waste', 'Management', 'Inc', 'lt', 'WNX', 'Wall', 'Street', 'arbitrageurs', 'said', 'Shares', 'of', 'ChemLawn', 'shot', 'up', '11-5/8', 'to', '29-3/8', 'in', 'over-the-counter-', 'trading', 'with', '3.8', 'mln', 'of', 'the', 'company', \"'s\", '10.1', 'mln', 'shares', 'changing', 'hands', 'by', 'late', 'afternoon', 'This', 'company', 'could', 'go', 'for', '10', 'times', 'cash', 'flow', 'or', '30', 'dlrs', 'maybe', '32', 'dollars', 'depending', 'on', 'whether', 'there', 'is', 'a', 'competing', 'bidder', \"''\", 'an', 'arbitrageur', 'said', 'Waste', 'Management', \"'s\", 'tender', 'offer', 'announced', 'before', 'the', 'opening', 'today', 'expires', 'March', '25', '``', 'This', 'is', 'totally', 'by', 'surprise', \"''\", 'said', 'Debra', 'Strohmaier', 'a', 'ChemLawn', 'spokeswoman', 'The', 'company', \"'s\", 'board', 'held', 'a', 'regularly', 'scheduled', 'meeting', 'today', 'and', 'was', 'discussing', 'the', 'Waste', 'Management', 'announcement', 'She', 'said', 'a', 'statement', 'was', 'expected', 'but', 'it', 'was', 'not', 'certain', 'when', 'it', 'would', 'be', 'ready', 'She', 'was', 'unable', 'to', 'say', 'if', 'there', 'had', 'been', 'any', 'prior', 'contact', 'between', 'Waste', 'Management', 'and', 'ChemLawn', 'officials', '``', 'I', 'think', 'they', 'will', 'resist', 'it', \"''\", 'said', 'Elliott', 'Schlang', 'analyst', 'at', 'Prescott', 'Ball', 'and', 'Turben', 'Inc.', '``', 'Any', 'company', 'that', 'does', \"n't\", 'like', 'a', 'surprise', 'attack', 'would', \"''\", 'Arbitrageurs', 'pointed', 'out', 'it', 'is', 'difficult', 'to', 'resist', 'tender', 'offers', 'for', 'any', 'and', 'all', 'shares', 'for', 'cash', 'Schlang', 'said', 'ChemLawn', 'could', 'try', 'to', 'find', 'a', 'white', 'knight', 'if', 'does', 'not', 'want', 'to', 'be', 'acquired', 'by', 'Waste', 'Management', 'Analyst', 'Rosemarie', 'Morbelli', 'of', 'Ingalls', 'and', 'Snyder', 'said', 'ServiceMaster', 'Companies', 'L.P.', 'lt', 'SVM', 'or', 'Rollins', 'Inc', 'lt', 'ROL', 'were', 'examples', 'of', 'companies', 'that', 'could', 'be', 'interested', 'ChemLawn', 'with', 'about', 'two', 'mln', 'customers', 'is', 'the', 'largest', 'U.S.', 'company', 'involved', 'in', 'application', 'of', 'fertilizers', 'pesticides', 'and', 'herbicides', 'on', 'lawns', 'Waste', 'Management', 'is', 'involved', 'in', 'removal', 'of', 'wastes', 'Schlang', 'said', 'ChemLawn', \"'s\", 'customer', 'base', 'could', 'be', 'valuable', 'to', 'another', 'company', 'that', 'wants', 'to', 'capitalize', 'on', 'a', 'strong', 'residential', 'and', 'commercial', 'distribution', 'system', 'Both', 'Schlang', 'and', 'Morbelli', 'noted', 'that', 'high', 'growth', 'rates', 'had', 'catapulted', 'ChemLawn', \"'s\", 'share', 'price', 'into', 'the', 'mid-30', \"'s\", 'in', '1983', 'but', 'the', 'stock', 'languished', 'as', 'the', 'rate', 'of', 'growth', 'slowed', 'Schlang', 'said', 'the', 'company', \"'s\", 'profits', 'are', 'concentrated', 'in', 'the', 'fourth', 'quarter', 'In', '1986', 'ChemLawn', 'earned', '1.19', 'dlrs', 'per', 'share', 'for', 'the', 'full', 'year', ',', 'and', '2.58', 'dlrs', 'in', 'the', 'fourth', 'quarter', 'Morbelli', 'noted', 'ChemLawn', 'competes', 'with', 'thousands', 'of', 'individual', 'entrepreuers', 'who', 'offer', 'lawn', 'and', 'garden', 'care', 'sevice', 'Reuter']], ['46', ['U.S.', 'SUGAR', 'IMPORTS', 'DOWN', 'IN', 'WEEK', 'USDA', 'WASHINGTON', 'Feb', '26', 'Sugar', 'imports', 'subject', 'to', 'the', 'U.S.', 'sugar', 'import', 'quota', 'during', 'the', 'week', 'ended', 'January', '9', 'the', 'initial', 'week', 'of', 'the', '1987', 'sugar', 'quota', 'year', 'totaled', '5,988', 'short', 'tons', 'versus', '46,254', 'tons', 'the', 'previous', 'week', 'the', 'Agriculture', 'Department', 'said', 'The', 'sugar', 'import', 'quota', 'for', 'the', '1987', 'quota', 'year', 'January-December', 'has', 'been', 'set', 'at', '1,001,430', 'short', 'tons', 'compared', 'with', '1,850,000', 'tons', 'in', 'the', '1986', 'quota', 'year', 'which', 'was', 'extended', 'three', 'months', 'to', 'December', '31', 'The', 'department', 'said', 'the', 'Customs', 'Service', 'has', 'reported', 'that', 'weekly', 'and', 'cumulative', 'imports', 'are', 'reported', 'on', 'an', 'actual', 'weight', 'basis', 'and', 'when', 'final', 'polarizations', 'are', 'received', 'cumulative', 'import', 'data', 'are', 'adjusted', 'accordingly', 'Reuter']], ['47', ['BRAZIL', 'ANTI-INFLATION', 'PLAN', 'LIMPS', 'TO', 'ANNIVERSARY', 'RIO', 'DE', 'JANEIRO', 'Feb', '26', 'Brazil', \"'s\", 'Cruzado', 'anti-', 'inflation', 'plan', 'initially', 'hailed', 'at', 'home', 'and', 'abroad', 'as', 'the', 'saviour', 'of', 'the', 'economy', 'is', 'limping', 'towards', 'its', 'first', 'anniversary', 'amid', 'soaring', 'prices', 'widespread', 'shortages', 'and', 'a', 'foreign', 'payments', 'crisis', 'Announced', 'last', 'February', '28', 'the', 'plan', 'froze', 'prices', 'fixed', 'the', 'value', 'of', 'the', 'new', 'Cruzado', 'currency', 'and', 'ended', 'widespread', 'indexation', 'of', 'the', 'economy', 'in', 'a', 'bid', 'to', 'halt', 'the', 'country', \"'s\", '250', 'pct', 'inflation', 'rate', 'But', 'within', 'a', 'year', 'the', 'plan', 'has', 'all', 'but', 'collapsed', '``', 'The', 'situation', 'now', 'is', 'worse', 'than', 'it', 'was', 'Although', 'there', 'was', 'inflation', 'at', 'least', 'the', 'economy', 'worked', \"''\", 'a', 'leading', 'bank', 'economist', 'said', 'The', 'crumbling', 'of', 'the', 'plan', 'has', 'been', 'accompanied', 'by', 'a', 'dramatic', 'reversal', 'in', 'the', 'foreign', 'trade', 'account', 'In', '1984', 'and', '1985', 'Brazil', \"'s\", 'annual', 'trade', 'surpluses', 'had', 'been', 'sufficient', 'to', 'cover', 'the', '12', 'billion', 'dlrs', 'needed', 'to', 'service', 'its', '109', 'billion', 'dlr', 'foreign', 'debt', 'For', 'the', 'first', 'nine', 'months', 'of', '1986', 'all', 'seemed', 'to', 'be', 'on', 'target', 'for', 'a', 'repeat', 'with', 'monthly', 'surpluses', 'averaging', 'one', 'billion', 'dlrs', 'But', 'as', 'exports', 'were', 'diverted', 'and', 'imports', 'increased', 'to', 'avoid', 'further', 'domestic', 'shortages', 'the', 'trade', 'surplus', 'plunged', 'to', '211', 'mln', 'dlrs', 'in', 'October', 'and', 'since', 'then', 'has', 'averaged', 'under', '150', 'mln', 'Reuter']], ['48', ['N.Z', 'OFFICIAL', 'FOREIGN', 'RESERVES', 'FALL', 'IN', 'JANUARY', 'WELLINGTON', 'Feb', '27', 'New', 'Zealand', \"'s\", 'official', 'foreign', 'reserves', 'fell', 'to', '7.15', 'billion', 'N.Z', 'Dlrs', 'in', 'January', 'from', '7.20', 'billion', 'dlrs', 'in', 'December', 'and', 'compared', 'with', '3.03', 'billion', 'a', 'year', 'ago', 'period', 'the', 'Reserve', 'Bank', 'said', 'in', 'its', 'weekly', 'statistical', 'bulletin', 'Reuter']], ['49', ['AGENCY', 'REPORTS', '39', 'SHIPS', 'WAITING', 'AT', 'PANAMA', 'CANAL', 'WASHINGTON', 'Feb', '26', 'The', 'Panama', 'Canal', 'Commission', 'a', 'U.S.', 'government', 'agency', 'said', 'in', 'its', 'daily', 'operations', 'report', 'that', 'there', 'was', 'a', 'backlog', 'of', '39', 'ships', 'waiting', 'to', 'enter', 'the', 'canal', 'early', 'today', 'Over', 'the', 'next', 'two', 'days', 'it', 'expects', '2/26', '2/27', 'Due', '27', '35', 'Scheduled', 'to', 'Transit', '35', '41', 'End-Day', 'Backlog', '31', '25', 'Average', 'waiting', 'time', 'tomorrow', 'Super', 'Tankers', 'Regular', 'Vessels', 'North', 'End', '13', 'hrs', '15', 'hrs', 'South', 'End', '4', 'hrs', '26', 'hrs', 'Reuter']], ['50', ['AMERICA', 'FIRST', 'MORTGAGE', 'SETS', 'SPECIAL', 'PAYOUT', 'OMAHA', 'Neb.', 'Feb', '26', '&', 'lt', 'America', 'First', 'Federally', 'Guaranteed', 'Mortgage', 'Fund', 'Two', 'said', 'it', 'is', 'making', 'a', 'special', 'distribution', 'of', '71.6', 'cts', 'per', 'exchangeable', 'unit', 'which', 'includes', '67.62', 'cts', 'from', 'return', 'on', 'capital', 'and', '3.98', 'cts', 'from', 'income', 'gains', 'Reuter']], ['51', ['REPUBLICANS', 'EYE', 'BIGGER', 'U.S.', 'CONSERVATION', 'RESERVE', 'WASHINGTON', 'Feb', '26', 'A', 'group', 'of', 'Republican', 'governors', 'and', 'members', 'of', 'Congress', 'said', 'they', 'intended', 'to', 'explore', 'expanding', 'the', 'conservation', 'reserve', 'program', 'by', 'up', 'to', '20', 'mln', 'acres', 'Under', 'current', 'law', 'between', '40', 'and', '45', 'mln', 'acres', 'of', 'erodible', 'land', 'must', 'be', 'enrolled', 'in', 'the', 'program', 'by', 'the', 'end', 'of', 'fiscal', '1990', 'The', 'Republican', 'Task', 'Force', 'on', 'Farm', 'and', 'Rural', 'America', 'headed', 'by', 'Senate', 'Majority', 'Leader', 'Robert', 'Dole', 'Kan.', ',', 'said', 'they', 'would', 'consider', 'drafting', 'legislation', 'to', 'increase', 'the', 'reserve', 'by', 'between', '15', 'and', '20', 'mln', 'acres', 'Sen.', 'Charles', 'Grassley', 'R-Iowa', 'told', 'Reuters', 'he', 'would', 'offer', 'a', 'bill', 'to', 'expand', 'the', 'reserve', 'to', '67', 'mln', 'acres', 'Reuter']], ['52', ['ARVIN', 'INDS', 'lt', 'ARV', 'PROMOTES', 'EVANS', 'TO', 'PRESIDENT', 'COLUMBUS', 'IND.', 'Feb', '26', 'Arvin', 'Industries', 'Inc', 'said', 'L.K', 'Evans', 'has', 'been', 'elected', 'president', 'succeeding', 'James', 'Baker', 'who', 'remains', 'chairman', 'Evans', 'had', 'been', 'executive', 'vice', 'president', 'Reuter']], ['53', ['EMHART', 'CORP', 'lt', 'EMH', 'QTLY', 'DIVIDEND', 'FARMINGTON', 'Conn.', 'FEb', '26', 'Qtly', 'div', '35', 'cts', 'vs', '35', 'cts', 'prior', 'Payable', 'March', '31', 'Record', 'March', 'nine', 'Reuter']], ['54', ['U.S.', 'DATA', 'POINT', 'TO', 'CAPITAL', 'SPENDING', 'SLOWDOWN', 'By', 'Kathleen', 'Hays', 'Reuters', 'NEW', 'YORK', 'Feb', '26', 'A', 'surprise', '7.5', 'pct', 'drop', 'in', 'U.S.', 'January', 'durable', 'goods', 'orders', 'points', 'to', 'a', 'slowdown', 'in', 'capital', 'spending', 'that', 'could', 'presage', 'lackluster', 'real', 'growth', 'in', 'the', 'U.S.', 'economy', 'in', 'the', 'first', 'quarter', 'of', '1987', 'economists', 'said', 'With', 'total', 'orders', 'excluding', 'the', 'volatile', 'defense', 'sector', 'falling', 'a', 'record', '9.9', 'pct', 'economists', 'agreed', 'that', 'the', 'report', 'painted', 'a', 'bleak', 'picture', 'for', 'the', 'U.S.', 'economy', 'But', 'they', 'stressed', 'that', 'the', '1987', 'tax', 'reform', 'laws', 'may', 'be', 'a', 'primary', 'factor', 'behind', 'the', 'drop', 'in', 'orders', 'for', 'business', 'capital', 'investment', 'It', \"'s\", 'a', 'rather', 'gloomy', 'outlook', 'for', 'the', 'economy', 'said', 'David', 'Wyss', 'of', 'Data', 'Resources', 'Inc.', 'I', \"'m\", 'particularly', 'impressed', 'by', 'the', '19.7', 'pct', 'drop', 'in', 'non-defense', 'capital', 'goods', 'orders', 'because', 'it', 'may', 'be', 'a', 'sign', 'that', 'businesses', 'are', 'reacting', 'more', 'adversely', 'to', 'tax', 'reform', 'than', 'we', 'thought', \"''\", 'The', 'Commerce', 'Department', 'pointed', 'out', 'that', 'a', 'record', '14.8', 'pct', 'decline', 'in', 'new', 'orders', 'for', 'machinery', 'was', 'led', 'by', 'declines', 'in', 'office', 'and', 'computing', 'equipment', 'orders', 'Economists', 'said', 'the', 'drop', 'in', 'computer', 'orders', 'may', 'have', 'been', 'a', 'response', 'to', 'the', 'lengthening', 'of', 'depreciation', 'schedules', 'and', 'the', 'end', 'of', 'the', 'investment', 'tax', 'credit', 'under', 'the', 'new', 'tax', 'laws', 'It', \"'s\", 'more', 'expensive', 'to', 'invest', 'than', 'it', 'used', 'to', 'be', 'so', 'people', 'just', 'are', \"n't\", 'doing', 'it', 'as', 'much', \"''\", 'Wyss', 'said', 'Increases', 'in', 'durable', 'goods', 'orders', 'at', 'year', \"'s\", 'end', 'reinforced', 'the', 'view', 'that', 'businesses', 'anticipated', 'the', 'changing', 'tax', 'laws', 'economists', 'said', 'November', 'durable', 'goods', 'orders', 'rose', '5.1', 'pct', 'and', \"December's\", 'increased', '1.5', 'pct', 'revised', 'upwards', 'from', 'a', 'previously', 'reported', '0.9', 'pct', 'But', 'most', 'acknowledged', 'that', 'the', 'huge', 'January', 'drop', 'was', 'caused', 'by', 'more', 'than', 'tax', 'reform', '``', 'The', 'wash-out', 'that', 'took', 'place', 'in', 'January', 'was', 'far', 'greater', 'than', 'the', 'actual', 'gains', 'that', 'took', 'place', 'in', 'November', 'and', 'December', \"''\", 'said', 'Bill', 'Sullivan', 'of', 'Dean', 'Witter', 'Reynolds', 'Inc.', '``', 'The', 'economy', 'has', 'a', 'weakening', 'bent', 'to', 'it', 'early', 'in', 'the', 'year', \"''\", '``', 'The', 'report', 'definitely', 'points', 'to', 'very', 'sluggish', 'capital', 'spending', 'over', 'the', 'next', 'couple', 'of', 'quarters', \"''\", 'said', 'Donald', 'Maude', 'of', 'Midland', 'Montagu', 'Capital', 'Markets', 'Inc.', 'Maude', 'pointed', 'to', 'a', 'continuing', 'decline', 'in', 'order', 'backlogs', 'as', 'evidence', 'that', 'the', 'outlook', 'for', 'new', 'orders', 'is', 'not', 'improving', 'In', 'November', 'order', 'backlogs', 'rose', '0.6', 'pct', 'but', 'in', 'December', 'they', 'fell', '0.6', 'pct', 'and', 'in', 'January', '0.7', 'pct', 'he', 'said', '``', 'It', 'suggests', 'orders', 'in', 'the', 'pipeline', 'are', 'depleting', 'which', 'may', 'quickly', 'translate', 'to', 'a', 'drop', 'in', 'production', \"''\", 'Midland', 'Montagu', \"'s\", 'Maude', 'said', 'Wyss', 'cautioned', 'that', 'too', 'much', 'should', 'not', 'be', 'made', 'of', 'January', \"'s\", 'report', 'given', 'that', 'other', 'reports', 'have', 'reflected', 'strength', 'But', 'he', 'acknowledged', 'that', 'the', 'decline', 'occurred', 'despite', 'a', '51', 'pct', 'rise', 'in', 'defense', 'orders', 'compared', 'with', 'a', '57.7', 'pct', 'decline', 'in', 'December', 'He', 'also', 'noted', 'that', 'there', 'was', 'a', '6.9', 'pct', 'drop', 'in', 'January', 'shipments', 'compared', 'with', 'a', '5.4', 'pct', 'rise', 'in', 'December', '``', 'Given', 'these', 'numbers', 'there', \"'s\", 'no', 'reason', 'for', 'the', 'Fed', 'to', 'tighten', \"''\", 'Data', 'Resources', \"'\", 'Wyss', 'said', '``', 'But', 'there', \"'s\", 'no', 'reason', 'to', 'ease', 'unless', 'we', 'see', 'more', 'numbers', 'like', 'this', 'The', 'Fed', 'will', 'wait', 'and', 'see', \"''\", 'he', 'added', 'Sullivan', 'predicted', 'the', 'Fed', 'will', 'ease', 'by', 'Easter', '``', 'People', 'are', \"n't\", 'talking', 'recession', 'or', 'Fed', 'easing', 'now', 'but', 'the', 'Fed', 'will', 'have', 'to', 'ease', 'to', 'ensure', 'global', 'growth', \"''\", 'Reuter']], ['55', ['SENATORS', 'INTRODUCE', 'EXPORT', 'LICENSING', 'REFORM', 'BILL', 'WASHINGTON', 'Feb', '26', 'Sens', 'Alan', 'Cranston', 'D-Cal', 'and', 'Daniel', 'Evans', 'R-Wash.', ')', 'said', 'they', 'introduced', 'export', 'licensing', 'reform', 'legislation', 'that', 'could', 'save', 'U.S.', 'companies', 'hundreds', 'of', 'thousands', 'of', 'dollars', 'annually', '``', 'Our', 'emphasis', 'is', 'two-fold', 'Decontrol', 'and', 'de-license', 'items', 'where', 'such', 'actions', 'will', 'not', 'endanger', 'our', 'national', 'security', 'and', 'eliminate', 'the', 'Department', 'of', 'Defense', \"'s\", 'de', 'facto', 'veto', 'authority', 'over', 'the', 'licensing', 'process', \"''\", 'Cranston', 'said', '``', 'Our', 'reforms', 'should', 'reduce', 'licensing', 'requirements', 'by', '65', 'to', '70', 'pct', \"''\", 'he', 'told', 'reporters', '``', 'I', 'am', 'convinced', 'that', 'a', 'more', 'rational', 'licensing', 'process', 'will', 'boost', 'exports', \"''\", 'U.S.', 'export', 'controls', 'are', 'intended', 'to', 'deny', 'Eastern', 'bloc', 'countries', 'access', 'to', 'technology', 'that', 'could', 'further', 'their', 'military', 'capabilities', '``', 'By', 'refocusing', 'our', 'control', 'resources', 'on', 'higher', 'levels', 'of', 'technology', 'technology', 'that', 'is', 'truly', 'critical', 'we', 'will', 'do', 'a', 'better', 'job', 'of', 'preventing', 'diversion', 'of', 'critical', 'technology', 'to', 'our', 'adversaries', 'while', 'promoting', 'more', 'exports', \"''\", 'Cranston', 'said', '``', 'We', 'can', 'not', 'expect', 'to', 'continue', 'to', 'play', 'a', 'leading', 'role', 'in', 'new', 'technology', 'development', 'in', 'the', 'future', 'if', 'we', 'unduly', 'restrict', 'the', 'activities', 'of', 'U.S.', 'firms', 'in', 'the', 'world', 'market-place', \"''\", 'Evans', 'told', 'reporters', 'Reuter']], ['56', ['AM', 'INTERNATIONAL', 'lt', 'AM', 'CITES', 'STRONG', 'PROSPECTS', 'CHICAGO', 'Feb', '26', 'AM', 'International', 'Inc', 'reporting', 'an', 'operating', 'loss', 'for', 'the', 'January', '31', 'second', 'quarter', 'said', 'prospects', 'for', 'the', 'balance', 'of', 'the', 'fiscal', 'year', 'remain', 'good', 'It', 'said', 'orders', 'at', 'its', 'Harris', 'Graphics', 'subsidiary', 'acquired', 'in', 'June', '1986', '``', 'continue', 'to', 'run', 'at', 'a', 'strong', 'pace', \"''\", 'For', 'the', 'six', 'months', 'orders', 'rose', '35', 'pct', 'over', 'the', 'corresponding', 'prior-year', 'period', 'or', 'on', 'an', 'annualized', 'basis', 'are', 'running', 'at', 'about', '630', 'mln', 'dlrs', 'The', 'backlog', 'at', 'Harris', 'is', 'up', '30', 'pct', 'from', 'the', 'beginning', 'of', 'the', 'fiscal', 'year', 'AM', 'said', 'AM', 'International', 'said', 'its', 'old', 'division', 'are', 'expected', 'to', 'benefit', 'from', 'recent', 'new', 'product', 'introductions', 'and', 'the', 'decline', 'in', 'the', 'value', 'of', 'the', 'dollar', '``', 'Research', 'development', 'and', 'engineering', 'expenditures', 'in', 'fiscal', '1987', 'will', 'be', 'in', 'the', '45-50', 'mln', 'dlr', 'range', 'and', 'the', 'company', 'said', 'it', 'has', 'allocated', 'another', '30-40', 'mln', 'dlrs', 'for', 'capital', 'expenditures', 'Earlier', 'AM', 'reported', 'a', 'fourth', 'quarter', 'operating', 'loss', 'of', 'two', 'cts', 'a', 'share', 'compared', 'to', 'profits', 'of', 'seven', 'cts', 'a', 'share', 'a', 'year', 'ago', 'Revenues', 'rose', 'to', '291.8', 'mln', 'dlrs', 'from', '151.1', 'mln', 'dlrs', 'Reuter']], ['57', ['CCC', 'CREDITS', 'FOR', 'HONDURAS', 'SWITCHED', 'TO', 'WHITE', 'CORN', 'WASHINGTON', 'Feb', '26', 'The', 'Commodity', 'Credit', 'Corporation', 'CCC', 'announced', '1.5', 'mln', 'dlrs', 'in', 'credit', 'guarantees', 'previously', 'earmarked', 'to', 'cover', 'sales', 'of', 'dry', 'edible', 'beans', 'to', 'Honduras', 'have', 'been', 'switched', 'to', 'cover', 'sales', 'of', 'white', 'corn', 'the', 'U.S.', 'Agriculture', 'Department', 'said', 'The', 'department', 'said', 'the', 'action', 'reduces', 'coverage', 'for', 'sales', 'of', 'dry', 'edible', 'beans', 'to', '500,000', 'dlrs', 'and', 'creates', 'the', 'new', 'line', 'of', '1.5', 'mln', 'dlrs', 'for', 'sales', 'of', 'white', 'corn', 'All', 'sales', 'under', 'the', 'credit', 'guarantee', 'line', 'must', 'be', 'registered', 'and', 'shipped', 'by', 'September', '30', '1987', 'it', 'said', 'Reuter']], ['58', ['ASSETS', 'OF', 'U.S.', 'MONEY', 'FUNDS', 'ROSE', 'IN', 'WEEK', 'WASHINGTON', 'Feb', '26', 'Assets', 'of', 'money', 'market', 'mutual', 'funds', 'increased', '720.4', 'mln', 'dlrs', 'in', 'the', 'week', 'ended', 'yesterday', 'to', '236.90', 'billion', 'dlrs', 'the', 'Investment', 'Company', 'Institute', 'said', 'Assets', 'of', '91', 'institutional', 'funds', 'rose', '356', 'mln', 'dlrs', 'to', '66.19', 'billion', 'dlrs', '198', 'general', 'purpose', 'funds', 'rose', '212.5', 'mln', 'dlrs', 'to', '62.94', 'billion', 'dlrs', 'and', '92', 'broker-dealer', 'funds', 'rose', '151.9', 'mln', 'dlrs', 'to', '107.77', 'billion', 'dlrs', 'Reuter']], ['59', ['GULF', 'BARGE', 'FREIGHT', 'RATES', 'UP', 'FURTHER', 'ON', 'CALL', 'ST', 'LOUIS', 'Feb', '26', 'Gulf', 'barge', 'freight', 'rates', 'firmed', 'again', 'on', 'the', 'outlook', 'for', 'steady', 'vessel', 'loadings', 'at', 'the', 'Gulf', 'increasing', 'the', 'demand', 'for', 'barges', 'to', 'supply', 'those', 'ships', 'dealers', 'said', 'No', 'barges', 'traded', 'today', 'on', 'the', 'St', 'Louis', 'Merchants', \"'\", 'Exchange', 'call', 'session', 'versus', '29', 'yesterday', 'Quotes', 'included', 'Delivery', 'this', 'week', 'on', 'the', 'Illinois', 'River', 'Joliet', '135', 'pct', 'of', 'tariff', 'bid/140', 'offered', 'with', 'next', 'week', 'same', 'river', 'ex', 'Chicago', 'quoted', 'the', 'same', 'both', 'up', '2-1/2', 'percentage', 'points', 'Next', 'week', 'Mississippi', 'River', 'St', 'Louis', '120', 'pct', 'bid/127-1/2', 'offered', 'up', 'five', 'points', 'Next', 'week', 'Ohio', 'River', 'Owensboro/south', '125', 'pct', 'bid/132-1/2', 'offered', 'up', '7-1/2', 'points', 'On', 'station', 'Illinois', 'River', 'south', 'Chicago', '135', 'pct', 'bid/140', 'offered', 'no', 'comparison', '-', 'March', 'Illinois', 'ex', 'Chicago', '132-1/2', 'pct', 'bid/140', 'offered', '-', 'up', '2-1/2', 'points', '-', 'March', 'Ohio', 'River', 'bid', 'at', 'yesterday', \"'s\", 'traded', 'level', 'of', '125', 'pct', 'offered', 'at', '132-1/2', '-', 'March', 'lower', 'Mississippi', 'River', 'Memphis/Cairo', '112-1/2', 'pct', 'bid/120', 'offered', '-', 'no', 'comparison', '-', 'May', 'Illinois', 'River', 'ex', 'Chicago', '100', 'pct', 'bid/107-1/2', 'offered', '-', 'no', 'comparison', '-', 'Sept/Nov', 'Lower', 'Mississippi', 'River', 'Memphis/Cairo', '137-1/2', 'pct', 'bid/145', 'offered', 'with', 'Sept/Dec', 'same', 'section', '125', 'pct', 'bid/135', 'offered', '-', 'no', 'comparison', 'Reuter']], ['60', ['ARGENTINA', 'COULD', 'SUSPEND', 'DEBT', 'PAYMENTS', 'DEPUTY', 'BUENOS', 'AIRES', 'Feb', '26', 'Argentina', 'could', 'suspend', 'payments', 'on', 'its', 'foreign', 'debt', 'if', 'creditor', 'banks', 'reject', 'a', '2.15', 'billion', 'dlr', 'loan', 'request', 'to', 'meet', '1987', 'growth', 'targets', 'ruling', 'Radical', 'Party', 'Deputy', 'Raul', 'Baglini', 'told', 'a', 'local', 'radio', 'station', '``', 'Argentina', 'does', 'not', 'discard', 'the', 'use', 'of', 'a', 'moratorium', 'if', 'the', 'negotiations', 'do', 'not', 'produce', 'a', 'result', 'that', 'guarantees', 'the', 'growth', 'of', 'the', 'country', \"''\", 'he', 'added', 'Baglini', 'an', 'observer', 'at', 'Argentina', \"'s\", 'negotiations', 'in', 'New', 'York', 'with', 'the', 'steering', 'committee', 'for', 'its', '320', 'creditors', 'banks', 'told', 'the', 'Radio', 'del', 'Plata', 'in', 'a', 'telephone', 'interview', 'that', 'the', 'banks', 'were', 'divided', 'on', 'the', 'loan', 'request', 'Baglini', 'said', 'that', 'as', 'a', 'result', 'today', \"'s\", 'scheduled', 'second', 'day', 'of', 'talks', 'had', 'been', 'postponed', 'He', 'said', 'Argentina', 'was', 'prepared', 'to', 'follow', 'the', 'example', 'of', 'Brazil', 'which', 'last', 'week', 'declared', 'a', 'moratorium', 'on', 'interest', 'payments', 'of', 'a', 'large', 'portion', 'of', 'its', '108', 'billion', 'dlr', 'foreign', 'debt', 'Argentina', \"'s\", 'prime', 'objective', 'in', 'renegotiating', 'the', 'debt', 'was', 'to', 'maintain', 'growth', 'which', 'has', 'been', 'targeted', 'at', 'four', 'pct', 'in', '1987', 'Baglini', 'said', '``', 'Debtor', 'nations', 'should', 'not', 'have', 'to', 'take', 'from', 'their', 'own', 'pockets', 'that', 'is', 'their', 'commercial', 'balance', 'to', 'meet', 'interest', 'payments', \"''\", 'he', 'added', 'Reuter']], ['61', ['KEY', 'U.S.', 'TAX', 'WRITERS', 'SEEK', 'ESTATE', 'TAX', 'CURBS', 'WASHINGTON', 'Feb', '26', 'The', 'chairmen', 'and', 'senior', 'Republican', 'members', 'of', 'the', 'House', 'and', 'Senate', 'tax', 'writing', 'committees', 'proposed', 'legislation', 'to', 'curb', 'estate', 'tax', 'deduction', 'on', 'sales', 'of', 'stock', 'to', 'an', 'employee', 'stock', 'ownership', 'plan', 'The', 'proposal', 'would', 'raise', 'federal', 'revenues', 'of', '6.7', 'billion', 'dlrs', 'over', 'the', 'fiscal', 'year', 'period', '1987', 'to', '1991', 'If', 'adopted', 'by', 'Congress', 'it', 'would', 'effect', 'all', 'transactions', 'after', 'Sept', '26', '1987', 'The', 'plan', 'was', 'proposed', 'by', 'House', 'Ways', 'and', 'Means', 'Committee', 'Chairman', 'Dan', 'Rostenkowski', 'D-Ill', 'Rep', 'John', 'Duncan', 'R-Tenn', 'Senate', 'Finance', 'Committee', 'Chairman', 'Lloyd', 'Bentsen', 'D-Tex', 'and', 'Sen', 'Bob', 'Packwood', 'R-Ore', 'In', 'a', 'statement', 'Rostenkowski', 'said', 'the', 'estate', 'tax', 'deduction', 'enacted', 'last', 'year', 'as', 'part', 'of', 'the', 'tax', 'reform', 'bill', 'was', 'too', 'broad', 'and', 'would', 'have', 'cost', 'the', 'governmet', 'seven', 'billion', 'dlrs', 'over', 'four', 'years', 'The', 'narrower', 'deduction', 'would', 'cost', 'the', 'government', 'less', 'than', '300', 'mln', 'dlrs', 'for', 'the', 'same', 'years', 'He', 'said', 'it', 'was', 'designed', 'to', 'avoid', 'sham', 'transactions', 'which', 'allowed', 'estates', 'to', 'avoid', 'taxes', 'by', 'transferring', 'stock', 'to', 'ESOPs', 'Senate', 'Finance', 'Committee', 'chairman', 'Lloyd', 'Bentsen', 'said', 'in', 'a', 'statement', '``', 'The', 'Tax', 'Reform', 'Act', 'contains', 'a', 'provision', 'that', 'allows', 'many', 'wealthy', 'individuals', 'to', 'avoid', 'the', 'federal', 'estate', 'tax', 'entirely', 'when', 'they', 'die', \"''\", 'He', 'added', '``', 'The', 'provision', 'was', 'intended', 'to', 'encourage', 'estates', 'to', 'sell', 'stock', 'to', 'employee', 'stock', 'ownership', 'plans', 'as', 'a', 'way', 'of', 'promoting', 'worker', 'ownership', 'however', ',', 'the', 'provision', 'was', 'not', 'meant', 'to', 'be', 'broad', 'enough', 'to', 'reduce', 'federal', 'revenues', 'as', 'much', 'as', 'is', 'currently', 'estimated', \"''\", 'He', 'added', ',', '``', 'The', 'bill', 'I', 'have', 'introduced', 'today', 'calls', 'for', 'the', 'modification', 'of', 'the', 'provision', 'in', 'accordance', 'with', 'its', 'intended', 'purpose', '.', \"''\", 'Reuter']], ['62', ['TREASURY', 'BALANCES', 'AT', 'FED', 'ROSE', 'ON', 'FEB', '25', 'WASHINGTON', 'Feb', '26', 'Treasury', 'balances', 'at', 'the', 'Federal', 'Reserve', 'rose', 'on', 'Feb', '25', 'to', '4.151', 'billion', 'dlrs', 'from', '2.727', 'billion', 'dlrs', 'the', 'previous', 'business', 'day', 'the', 'Treasury', 'said', 'in', 'its', 'latest', 'budget', 'statement', 'Balances', 'in', 'tax', 'and', 'loan', 'note', 'accounts', 'fell', 'to', '25.137', 'billion', 'dlrs', 'from', '25.780', 'billion', 'dlrs', 'on', 'the', 'same', 'respective', 'days', 'The', 'Treasury', \"'s\", 'operating', 'cash', 'balance', 'totaled', '29.289', 'billion', 'dlrs', 'on', 'Feb', '25', 'compared', 'with', '28.507', 'billion', 'dlrs', 'on', 'Feb', '24', 'Reuter']], ['63', ['CANADA', \"'S\", 'WILSON', 'SEEKS', 'TEMPORARY', 'BORROWING', 'OTTAWA', 'Feb', '26', 'Canadian', 'Finance', 'Minister', 'Michael', 'Wilson', 'said', 'he', 'will', 'use', 'temporary', 'authority', 'under', 'the', 'Financial', 'Administration', 'act', 'to', 'borrow', 'an', 'additional', '600', 'mln', 'dlrs', 'in', 'next', 'Thursday', \"'s\", 'treasury', 'bill', 'auction', 'In', 'a', 'statement', 'Wilson', 'said', 'the', 'action', 'would', 'permit', 'the', 'government', 'to', 'proceed', 'with', 'its', 'debt', 'program', 'during', 'a', 'period', 'when', 'there', 'was', 'not', 'sufficient', 'borrowing', 'authority', 'which', 'is', 'granted', 'by', 'Parliament', 'to', 'cover', 'the', 'government', \"'s\", 'needs', 'Ottawa', 'announced', 'previously', 'it', 'was', 'seeking', 'Parliamentary', 'approval', 'for', 'the', 'additional', 'authority', 'to', 'cover', 'the', 'financing', 'of', 'an', 'increase', 'in', 'the', 'government', \"'s\", 'foreign', 'reserves', 'Reuter']], ['64', ['GULF', 'APPLIED', 'lt', 'GATS', 'SELLS', 'UNITS', 'SEES', 'GAIN', 'HOUSTON', 'Feb', '26', 'Gulf', 'Applied', 'Technologies', 'Inc', 'said', 'it', 'sold', 'its', 'pipeline', 'and', 'terminal', 'operations', 'units', 'for', '12.2', 'mln', 'dlrs', 'and', 'will', 'record', 'a', 'gain', 'of', '2.9', 'mln', 'dlrs', 'in', 'the', 'first', 'quarter', 'It', 'added', 'that', 'any', 'federal', 'taxes', 'owed', 'on', 'the', 'transaction', 'will', 'be', 'offset', 'by', 'operating', 'loss', 'carryovers', 'Reuter']], ['65', ['FARMERS', 'GROUP', 'INC', 'lt', 'FGRP', '4TH', 'QTR', 'NET', 'LOS', 'ANGELES', 'Feb', '26', 'Shr', '80', 'cts', 'vs', '72', 'cts', 'Net', '55,513,000', 'vs', '48,741,000', 'Revs', '290.9', 'mln', 'vs', '264.2', 'mln', 'Year', 'Shr', '3.09', 'dlrs', 'vs', '2.72', 'dlrs', 'Net', '213,470,000', 'vs', '184,649,000', 'Revs', '1.12', 'billion', 'vs', '992.9', 'mln', 'Avg', 'shrs', '69,127,000', 'vs', '68,004,000', 'Reuter']], ['66', ['POTOMAC', 'ELECTRIC', 'POWER', 'CO', 'POM', 'JAN', 'NET', 'WASHINGTON', 'Feb', '26', 'Shr', '27', 'cts', 'vs', '29', 'cts', 'Net', '13,555,000', 'vs', '14,635,000', 'Revs', '104,606,000', 'vs', '110,311,000', 'Avg', 'shrs', '47.2', 'mln', 'vs', '47.1', 'mln', '12', 'mths', 'Shr', '4.10', 'dlrs', 'vs', '3.66', 'dlrs', 'Net', '226,653,000', 'vs', '186,790,000', 'Revs', '1.4', 'billion', 'vs', '1.3', 'billion', 'Avg', 'shr', '47.1', 'mln', 'vs', '47.1', 'mln', 'NOTE', 'latest', '12', 'mths', 'net', 'includes', 'gain', '46', 'cts', 'per', 'share', 'for', 'sale', 'of', 'Virginia', 'service', 'territory', 'to', 'Dominion', 'Resources', 'Inc', 'D', '.', 'Reuter']], ['67', ['SPRINGBOARD', 'lt', 'SPBD', 'IN', 'DEAL', 'MINNEAPOLIS', 'Feb', '26', 'Springboard', 'Software', 'INc', 'said', 'it', 'signed', 'a', 'contract', 'under', 'which', 'International', 'Technology', 'Development', 'Corp', 'will', 'provide', 'software', 'designers', 'programmers', 'project', 'supervisors', 'and', 'technical', 'support', 'personnel', 'to', 'Springboard', 'International', 'Technology', 'based', 'in', 'San', 'Francisco', 'and', 'Shanghai', 'China', 'employs', 'Chinese', 'computer', 'specialists', 'Reuter']], ['68', ['lt', 'COFAB', 'INC', 'BUYS', 'GULFEX', 'FOR', 'UNDISCLOSED', 'AMOUNT', 'HOUSTON', 'Feb', '26', 'CoFAB', 'Inc', 'said', 'it', 'acquired', 'lt', 'Gulfex', 'Inc', 'a', 'Houston-based', 'fabricator', 'of', 'custom', 'high-pressure', 'process', 'vessels', 'for', 'the', 'energy', 'and', 'petrochemical', 'industries', 'CoFAB', 'said', 'its', 'group', 'of', 'companies', 'manufacture', 'specialized', 'cooling', 'and', 'lubricating', 'systems', 'for', 'the', 'oil', 'and', 'gas', 'petrochemical', 'utility', ',', 'pulp', 'and', 'paper', 'and', 'marine', 'industries', 'Reuter']], ['69', ['U.S.', 'WEEKLY', 'SOYBEAN', 'CRUSH', '21,782,929', 'BUSHELS', 'WASHINGTON', 'Feb', '26', 'Reporting', 'members', 'of', 'the', 'National', 'Soybean', 'Processors', 'Association', 'NSPA', 'crushed', '21,782,929', 'bushels', 'of', 'soybeans', 'in', 'the', 'week', 'ended', 'Feb', '25', 'compared', 'with', '22,345,718', 'bushels', 'in', 'the', 'previous', 'week', 'and', '16,568,000', 'in', 'the', 'year-ago', 'week', 'the', 'association', 'said', 'It', 'said', 'total', 'crushing', 'capacity', 'for', 'members', 'was', '25,873,904', 'bushels', 'vs', '25,873,904', 'last', 'week', 'and', '25,459,238', 'bushels', 'last', 'year', 'NSPA', 'also', 'said', 'U.S.', 'soybean', 'meal', 'exports', 'in', 'the', 'week', 'were', '117,866', 'tonnes', 'vs', '121,168', 'tonnes', 'a', 'week', 'ago', 'and', 'compared', 'with', '84,250', 'tonnes', 'in', 'the', 'year-ago', 'week', 'NSPA', 'said', 'the', 'figures', 'include', 'only', 'NSPA', 'member', 'firms', 'Reuter']], ['70', ['SCHULT', 'HOMES', 'OFFERING', 'PRICED', 'AT', 'FIVE', 'DLRS/UNIT', 'NEW', 'YORK', 'Feb', '26', 'The', 'underwriters', 'said', 'the', 'initial', 'offering', 'of', '833,334', 'Schult', 'Homes', 'Corp', 'units', 'is', 'being', 'made', 'at', 'five', 'dlrs', 'per', 'unit', 'The', 'underwriters', 'managed', 'by', 'Janney', 'Montgomey', 'Scott', 'Inc', 'and', 'Woolcott', 'and', 'Co', 'Inc', 'said', 'each', 'unit', 'consits', 'of', 'one', 'common', 'share', 'and', 'one', 'warrant', 'to', 'purchase', 'one-half', 'a', 'common', 'share', 'at', '5.50', 'dlrs', 'per', 'share', 'until', 'September', 'one', '1989', 'and', 'thereafter', 'at', '6.50', 'dlrs', 'per', 'share', 'until', 'March', '1991', 'The', 'underwriters', 'were', 'granted', 'an', 'over-allotment', 'option', 'of', '125,000', 'units', 'They', 'said', 'the', 'company', 'will', 'use', 'its', 'proceeds', 'to', 'pay', 'a', 'portion', 'of', 'its', 'subordinated', 'note', 'payable', 'to', 'Inland', 'Steel', 'Urban', 'Development', 'Corp', 'issued', 'in', 'connection', 'with', 'the', 'acquisition', 'of', 'Schult', 'from', 'Inland', 'Based', 'in', 'Elkhart', 'Ind.', 'Schult', 'is', 'the', 'country', \"'s\", 'oldest', 'manufactured', 'home', 'producer', 'Reuter']], ['71', ['TULTEX', 'CORP', 'lt', 'TTX', 'SETS', 'QUARTERLY', 'DIVIDEND', 'MARTINSVILLE', 'Va.', 'Feb', '26', 'Qtly', 'div', 'eights', 'cts', 'vs', 'eight', 'cts', 'prior', 'Pay', 'April', 'one', 'Record', 'March', '13', 'Reuter']], ['72', ['BURLINGTON', 'lt', 'BUR', 'GETS', '30.5', 'MLN', 'DLR', 'CONTRACT', 'WASHINGTON', 'Feb', '26', 'Burlington', 'Menswear', 'of', 'New', 'York', 'City', 'a', 'division', 'of', 'Burlington', 'Industries', 'Inc', 'has', 'received', 'a', '30.5', 'mln', 'dlr', 'defense', 'contract', 'for', '3.69', 'mln', 'yards', 'of', 'tropical', 'cloth', 'the', 'Defense', 'Logistics', 'Agency', 'said', 'reuter']], ['73', ['ROCKWELL', 'lt', 'ROK', 'GETS', '28.3', 'MLN', 'DLR', 'B-1', 'CONTRACT', 'WASHINGTON', 'Feb', '26', 'Rockwell', 'International', 'Corp', 'has', 'received', 'a', '28.3', 'mln', 'dlr', 'contract']]]\n"
     ]
    }
   ],
   "source": [
    "print(sub_corpus)"
   ]
  },
  {
   "cell_type": "markdown",
   "metadata": {
    "pycharm": {
     "name": "#%% md\n"
    }
   },
   "source": [
    "## Naive indexer code"
   ]
  },
  {
   "cell_type": "code",
   "execution_count": 13,
   "metadata": {
    "pycharm": {
     "name": "#%%\n"
    }
   },
   "outputs": [
    {
     "name": "stdout",
     "output_type": "stream",
     "text": [
      "Naive indexer took: 0.020310163497924805 seconds\n"
     ]
    }
   ],
   "source": [
    "f = []\n",
    "\n",
    "# Start timer\n",
    "start_time = time.time()\n",
    "\n",
    "# Get doc,ID pairs\n",
    "\n",
    "for i in range(len(sub_corpus)):\n",
    "    for token in sub_corpus[i][1]:\n",
    "        f.append((sub_corpus[i][0], token))\n",
    "\n",
    "# Sort and remove duplicates\n",
    "f.sort(key=lambda x: int(x[0]))\n",
    "f = list(dict.fromkeys(f))\n",
    "index_naive = {}\n",
    "for pair in f:\n",
    "    # Pair[0] is docID and pair[1] is word\n",
    "    if pair[1] in index_naive:\n",
    "        index_naive[pair[1]].append(pair[0])\n",
    "    else:\n",
    "        index_naive[pair[1]] = [pair[0]]\n",
    "# End timer\n",
    "print(f\"Naive indexer took: {(time.time() - start_time)} seconds\")"
   ]
  },
  {
   "cell_type": "markdown",
   "metadata": {
    "pycharm": {
     "name": "#%% md\n"
    }
   },
   "source": [
    "## SPIMI indexer"
   ]
  },
  {
   "cell_type": "code",
   "execution_count": 14,
   "metadata": {
    "pycharm": {
     "name": "#%%\n"
    }
   },
   "outputs": [
    {
     "name": "stdout",
     "output_type": "stream",
     "text": [
      "SPIMI indexer took: 0.011925220489501953 seconds\n"
     ]
    }
   ],
   "source": [
    "index_spimi = {}\n",
    "\n",
    "# Start timer\n",
    "start_time = time.time()\n",
    "token_count = 0\n",
    "\n",
    "for article in sub_corpus:\n",
    "    ID = article[0]\n",
    "    for token in article[1]:\n",
    "        if token in index_spimi:\n",
    "            if not ID in index_spimi[token]:\n",
    "                index_spimi[token].append(ID)\n",
    "        else:\n",
    "            index_spimi[token] = [ID]\n",
    "# End timer\n",
    "print(f\"SPIMI indexer took: {(time.time() - start_time)} seconds\")"
   ]
  },
  {
   "cell_type": "markdown",
   "metadata": {
    "pycharm": {
     "name": "#%% md\n"
    }
   },
   "source": [
    "## Create inverted index without compression techniques"
   ]
  },
  {
   "cell_type": "markdown",
   "source": [
    "### Create corpus of reuters in the form (ID,tokens)"
   ],
   "metadata": {
    "collapsed": false,
    "pycharm": {
     "name": "#%% md\n"
    }
   }
  },
  {
   "cell_type": "code",
   "execution_count": 15,
   "metadata": {
    "pycharm": {
     "name": "#%%\n"
    }
   },
   "outputs": [],
   "source": [
    "reuters_corpus = []\n",
    "index_corpus = {}\n",
    "\n",
    "for i in range(22):\n",
    "    doc = f\"./reuters21578/reut2-0{i:02d}.sgm\"\n",
    "    try:\n",
    "        if i != 17:\n",
    "            with open(doc, 'rt') as file:\n",
    "                file = file.read()\n",
    "        else:\n",
    "            # Needed as file 17 gave me UnicodeDecodeError\n",
    "            file = open(doc, mode=\"rb\")\n",
    "            file = file.read()\n",
    "            file = str(file)\n",
    "        articles = article_tokenizer.tokenize(file)\n",
    "        for article in articles:\n",
    "            ID = id_tokenizer.tokenize(article)[0]  # Get ID\n",
    "            contents = content_tokenizer.tokenize(article)  # Get content inside <TEXT> tags\n",
    "            contents = ' '.join(contents)\n",
    "            contents = remove_metadata(contents)\n",
    "            tokens = word_tokenize(contents)\n",
    "            reuters_corpus.append((ID, tokens))\n",
    "    except IOError:\n",
    "        print(\"Error: File does not exist\")"
   ]
  },
  {
   "cell_type": "markdown",
   "source": [
    "### Indexing"
   ],
   "metadata": {
    "collapsed": false,
    "pycharm": {
     "name": "#%% md\n"
    }
   }
  },
  {
   "cell_type": "code",
   "execution_count": 16,
   "outputs": [
    {
     "name": "stdout",
     "output_type": "stream",
     "text": [
      "Whole corpus indexer took: 1.7319340705871582 seconds\n"
     ]
    }
   ],
   "source": [
    "# Start timer\n",
    "start_time = time.time()\n",
    "for article in reuters_corpus:\n",
    "    ID = article[0]\n",
    "    tokens = set(article[1])\n",
    "    for token in tokens:\n",
    "        if token in index_corpus:\n",
    "            index_corpus[token].append(ID)\n",
    "        else:\n",
    "            index_corpus[token] = [ID]\n",
    "# End timer\n",
    "print(f\"Whole corpus indexer took: {(time.time() - start_time)} seconds\")"
   ],
   "metadata": {
    "collapsed": false,
    "pycharm": {
     "name": "#%%\n"
    }
   }
  },
  {
   "cell_type": "markdown",
   "source": [
    "# Subproject 2\n"
   ],
   "metadata": {
    "collapsed": false,
    "pycharm": {
     "name": "#%% md\n"
    }
   }
  },
  {
   "cell_type": "markdown",
   "source": [
    "## Create index with term frequency"
   ],
   "metadata": {
    "collapsed": false,
    "pycharm": {
     "name": "#%% md\n"
    }
   }
  },
  {
   "cell_type": "code",
   "execution_count": 17,
   "outputs": [],
   "source": [
    "inverted_index = {}\n",
    "doc_len_list = []\n",
    "for doc in reuters_corpus:\n",
    "    ID = doc[0]\n",
    "    doc_len_list.append(len(doc[1]))  # Appends doc length for use in BM25\n",
    "    tokens = remove_punctuation(doc[1])\n",
    "    no_duplicates = set(tokens)\n",
    "    for token in no_duplicates:\n",
    "        freq = tokens.count(token)\n",
    "        if token in inverted_index:\n",
    "            if not ID in inverted_index[token]:\n",
    "                inverted_index[token][ID] = freq\n",
    "        else:\n",
    "            inverted_index[token] = {ID: freq}"
   ],
   "metadata": {
    "collapsed": false,
    "pycharm": {
     "name": "#%%\n"
    }
   }
  },
  {
   "cell_type": "code",
   "execution_count": 50,
   "outputs": [],
   "source": [
    "avg_doc_len = int(sum(doc_len_list) / len(doc_len_list))\n",
    "total_doc_num = len(reuters_corpus)\n",
    "\n",
    "\n",
    "def compute_bm25(tf, df, doc_len, k, b):\n",
    "    log_part = log(total_doc_num / df)\n",
    "    numerator = (k + 1) * tf\n",
    "    denominator = (k * ((1 - b) + b * (doc_len / avg_doc_len))) + tf\n",
    "    score = log_part * (numerator / denominator)\n",
    "    return score\n",
    "\n",
    "\n",
    "# Modes are bm25, AND, OR\n",
    "def process_query(query, mode):\n",
    "    query = set(word_tokenize(query))\n",
    "    results = []\n",
    "    # OR query\n",
    "    if mode == \"OR\":\n",
    "        results = {}\n",
    "        for element in query:\n",
    "            if element in inverted_index:\n",
    "                for ID, tf in inverted_index[element].items():\n",
    "                    if ID in results:\n",
    "                        results[ID] += tf\n",
    "                    else:\n",
    "                        results[ID] = tf\n",
    "        results = sorted(results.items(), key=lambda item: item[1], reverse=True)\n",
    "        results = [x[0] for x in results]\n",
    "    elif mode == \"AND\":\n",
    "        for element in query:\n",
    "            if element in inverted_index:\n",
    "                results.append(list(inverted_index[element].keys()))\n",
    "        # Find intersection\n",
    "        if results:\n",
    "            intersection = set(results[0])\n",
    "            for x in results[1:]:\n",
    "                temp_list = set(x) & intersection\n",
    "                intersection = temp_list\n",
    "            results = intersection\n",
    "    elif mode == \"BM25\":\n",
    "        k = 1.1\n",
    "        b = 0.5\n",
    "        results = {}\n",
    "        for word in query:\n",
    "            if word in inverted_index:\n",
    "                df = len(inverted_index[word])\n",
    "                for doc in inverted_index[word].keys():\n",
    "                    tf = inverted_index[word][doc]\n",
    "                    doc_len = len(reuters_corpus[int(doc) - 1][1])  # len of doc\n",
    "                    # print(doc)\n",
    "                    # print(tf)\n",
    "                    # print(df)\n",
    "                    # print(doc_len)\n",
    "                    score = compute_bm25(tf, df, doc_len, k, b)\n",
    "                    if word in results:\n",
    "                        results[doc] += score\n",
    "                    else:\n",
    "                        results[doc] = score\n",
    "        results = sorted(results.items(), key=lambda item: item[1], reverse=True)\n",
    "        results = [x[0] for x in results]\n",
    "    return results"
   ],
   "metadata": {
    "collapsed": false,
    "pycharm": {
     "name": "#%%\n"
    }
   }
  },
  {
   "cell_type": "markdown",
   "source": [
    "## Test queries"
   ],
   "metadata": {
    "collapsed": false,
    "pycharm": {
     "name": "#%% md\n"
    }
   }
  },
  {
   "cell_type": "code",
   "execution_count": 51,
   "outputs": [
    {
     "name": "stdout",
     "output_type": "stream",
     "text": [
      "['18071', '17863', '19419', '17837']\n"
     ]
    }
   ],
   "source": [
    "test_query_a = \"Samjens\"\n",
    "print(process_query(test_query_a, \"BM25\"))  # Returns list of IDs, for OR and BM25 they are ordered by docID"
   ],
   "metadata": {
    "collapsed": false,
    "pycharm": {
     "name": "#%%\n"
    }
   }
  },
  {
   "cell_type": "code",
   "execution_count": 52,
   "outputs": [
    {
     "name": "stdout",
     "output_type": "stream",
     "text": [
      "['1294', '6918', '15592', '3699', '19331', '8927', '13197', '20457', '21090', '11971', '15589', '13908', '1', '19641', '3877', '19698', '11786', '19496', '8991', '5869', '664', '11194', '4923', '16617', '18267', '5711', '7088', '19885', '2669', '6933', '3380', '9885', '2292', '10793', '11561', '6662', '21273', '25', '222', '7232', '18847', '18938', '21200', '17756', '2277', '1252', '2473', '9817', '3798', '16593', '1144', '7946', '9456', '7195', '7822', '2233', '5016', '3941', '15711', '16445', '7373', '12772', '14533', '16430', '15058', '3727', '10116', '15761', '8417', '3705', '3712', '12107', '11600', '9099', '5480', '4391', '32', '55', '3864', '1963', '18452', '3372', '17754', '3682', '18443', '12089', '18167', '4970', '18350', '6401', '12370', '16588', '11141', '2916', '3716', '5468', '9150', '14820', '14904', '8035', '8097', '8110', '8189', '8192', '21080', '11533', '12828', '17721', '17508', '20030', '19539', '5888', '14220', '3943', '13039', '19882', '2735', '16061', '10979', '17915', '9141', '9212', '3847', '4052', '4127', '339', '9717', '17214', '11118', '4402', '4477', '17846', '9607', '4156', '17261', '14184', '18688', '13261', '19289', '5896', '15239', '7036', '1272', '3030', '5127', '11074', '11492', '14434', '1353', '740', '17018', '1611', '2500', '2242', '15154', '9788', '11734', '19958', '18360', '4564', '16', '4', '8310', '4005', '11498', '15149', '16009', '8960', '17598', '496', '8210', '16948', '15556', '3563', '16053', '19532', '1408', '20500', '12372', '3535', '10123', '17976', '14767', '17405', '10996', '1306', '19897', '925', '8441', '1836', '7391', '8439', '2878', '8098', '19285', '8024', '11654', '2775', '14826', '10689', '10771', '17700', '2618', '8746']\n"
     ]
    }
   ],
   "source": [
    "test_query_b = \"Smith likes play football\"\n",
    "print(process_query(test_query_b, \"BM25\"))  # Returns list of IDs, for OR and BM25 they are ordered by docID"
   ],
   "metadata": {
    "collapsed": false,
    "pycharm": {
     "name": "#%%\n"
    }
   }
  },
  {
   "cell_type": "code",
   "execution_count": 53,
   "outputs": [
    {
     "name": "stdout",
     "output_type": "stream",
     "text": [
      "{'223', '12427', '3933', '10291', '960', '9206', '12610', '14888', '12397', '8085', '9717', '11782', '16872', '125'}\n"
     ]
    }
   ],
   "source": [
    "test_query_c = \"Hong Kong investment firm\"\n",
    "print(process_query(test_query_c, \"AND\"))  # Returns list of IDs, for OR and BM25 they are ordered by docID"
   ],
   "metadata": {
    "collapsed": false,
    "pycharm": {
     "name": "#%%\n"
    }
   }
  },
  {
   "cell_type": "code",
   "execution_count": 54,
   "outputs": [
    {
     "name": "stdout",
     "output_type": "stream",
     "text": [
      "['9479', '10134', '15075', '19594', '153', '340', '8729', '8763', '10179', '10199', '10346', '12431', '14635', '17428', '18448']\n"
     ]
    }
   ],
   "source": [
    "test_query_d = \"Concordia university\"\n",
    "print(process_query(test_query_d, \"OR\"))  # Returns list of IDs, for OR and BM25 they are ordered by docID"
   ],
   "metadata": {
    "collapsed": false,
    "pycharm": {
     "name": "#%%\n"
    }
   }
  },
  {
   "cell_type": "code",
   "execution_count": 55,
   "outputs": [
    {
     "name": "stdout",
     "output_type": "stream",
     "text": [
      "Digestible format\n",
      "Query: Democrats’ welfare and healthcare reform policies\n",
      "BM25:\n",
      "['21577', '14976', '7467', '219', '9248', '9096', '12326', '1999', '9347', '7806', '13257', '15661', '13671', '9688', '1908', '3551', '18161', '18449', '20890', '3289']\n",
      "OR:\n",
      "['9636', '9180', '11224', '7200', '17953', '5589', '12277', '11204', '7135', '6657', '5891', '5230', '5386', '340', '7589', '1999', '3798', '5318', '12806', '6395']\n",
      "AND:\n",
      "[]\n",
      "Digestible format\n",
      "Query: Drug company bankruptcies\n",
      "BM25:\n",
      "['16771', '8209', '7125', '12461', '12808', '2679', '12242', '18072', '14165', '4435', '11553', '3776', '7506', '9546', '3756', '8789', '15257', '18059', '9085', '3151']\n",
      "OR:\n",
      "['21251', '1501', '7094', '12277', '18138', '6157', '1718', '1860', '2428', '3287', '5104', '5482', '12917', '15213', '3115', '3242', '5473', '6203', '9376', '11533']\n",
      "AND:\n",
      "[]\n",
      "Digestible format\n",
      "Query: George Bush\n",
      "BM25:\n",
      "['20891', '16824', '8593', '2711', '20860', '20719', '16780', '4853', '4008', '2766', '10400', '6564', '5459', '2733', '8500', '255', '10682', '16115', '21393', '5334']\n",
      "OR:\n",
      "['4008', '20860', '20891', '854', '965', '3560', '7525', '16780', '925', '2796', '5405', '8500', '8593', '14749', '20719', '28', '43', '178', '255', '286']\n",
      "AND:\n",
      "['7525', '2796', '20891', '4008', '3560', '20719', '16780', '8593', '854', '8500', '20860', '965', '5405']\n"
     ]
    }
   ],
   "source": [
    "deliverables_queries = ['Democrats’ welfare and healthcare reform policies', 'Drug company bankruptcies', 'George Bush']\n",
    "f = open(\"test_queries.txt\", \"w\")\n",
    "for x in deliverables_queries:\n",
    "    f.write(\"Query: \")\n",
    "    f.write(str(x))\n",
    "    f.write(\"BM25 results:\")\n",
    "    f.write(str(process_query(x, \"BM25\")))\n",
    "    f.write(\"OR results:\")\n",
    "    f.write(str(process_query(x, \"OR\")))\n",
    "    f.write(\"AND results:\")\n",
    "    f.write(str(list(process_query(x, \"AND\"))))\n",
    "    print(\"Digestible format\")\n",
    "    print(\"Query: \" + x)\n",
    "    print(\"BM25:\")\n",
    "    print(process_query(x, \"BM25\")[:20])\n",
    "    print(\"OR:\")\n",
    "    print(process_query(x, \"OR\")[:20])\n",
    "    print(\"AND:\")\n",
    "    print(list(process_query(x, \"AND\"))[:20])\n",
    "\n",
    "f.close()"
   ],
   "metadata": {
    "collapsed": false,
    "pycharm": {
     "name": "#%%\n"
    }
   }
  },
  {
   "cell_type": "code",
   "execution_count": 55,
   "outputs": [],
   "source": [],
   "metadata": {
    "collapsed": false,
    "pycharm": {
     "name": "#%%\n"
    }
   }
  },
  {
   "cell_type": "code",
   "execution_count": null,
   "outputs": [],
   "source": [],
   "metadata": {
    "collapsed": false,
    "pycharm": {
     "name": "#%%\n"
    }
   }
  }
 ],
 "metadata": {
  "kernelspec": {
   "display_name": "Python 3 (ipykernel)",
   "language": "python",
   "name": "python3"
  },
  "language_info": {
   "codemirror_mode": {
    "name": "ipython",
    "version": 3
   },
   "file_extension": ".py",
   "mimetype": "text/x-python",
   "name": "python",
   "nbconvert_exporter": "python",
   "pygments_lexer": "ipython3",
   "version": "3.10.6"
  }
 },
 "nbformat": 4,
 "nbformat_minor": 1
}